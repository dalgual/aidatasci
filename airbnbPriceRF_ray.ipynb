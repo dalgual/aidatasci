{
  "cells": [
    {
      "cell_type": "markdown",
      "metadata": {
        "id": "view-in-github",
        "colab_type": "text"
      },
      "source": [
        "<a href=\"https://colab.research.google.com/github/dalgual/aidatasci/blob/main/airbnbPriceRF_ray.ipynb\" target=\"_parent\"><img src=\"https://colab.research.google.com/assets/colab-badge.svg\" alt=\"Open In Colab\"/></a>"
      ]
    },
    {
      "cell_type": "markdown",
      "metadata": {
        "application/vnd.databricks.v1+cell": {
          "inputWidgets": {},
          "nuid": "2ade1f48-1616-4e4d-bb27-782e4f42673a",
          "showTitle": false,
          "title": ""
        },
        "id": "BknvoTRb1n5V"
      },
      "source": [
        "<a href=\"http://www.calstatela.edu/centers/hipic\"><img align=\"left\" src=\"https://avatars2.githubusercontent.com/u/4156894?v=3&s=100\"><image/>\n",
        "</a>\n",
        "<img align=\"right\" alt=\"California State University, Los Angeles\" src=\"http://www.calstatela.edu/sites/default/files/groups/California%20State%20University%2C%20Los%20Angeles/master_logo_full_color_horizontal_centered.svg\" style=\"width: 360px;\"/>\n",
        "\n",
        "#    CIS5560 Term Project Tutorial"
      ]
    },
    {
      "cell_type": "markdown",
      "metadata": {
        "application/vnd.databricks.v1+cell": {
          "inputWidgets": {},
          "nuid": "7283ad38-44b1-46bf-bce9-b26ca1f4a3a1",
          "showTitle": false,
          "title": ""
        },
        "id": "sBB7Bp1n1n5X"
      },
      "source": [
        "------\n",
        "#### Authors: Samyuktha Muralidharan, Sanjana Boddireddy, Savita Yadav, Farnood Rahbar Far\n",
        "\n",
        "#### Instructor: [Jongwook Woo](https://www.linkedin.com/in/jongwook-woo-7081a85)\n",
        "\n",
        "#### Date: 05/23/2021"
      ]
    },
    {
      "cell_type": "markdown",
      "metadata": {
        "application/vnd.databricks.v1+cell": {
          "inputWidgets": {},
          "nuid": "0f172f44-a707-4b5a-a8d2-17b86ecf5cfb",
          "showTitle": false,
          "title": ""
        },
        "id": "TTZOZ3Zd1n5X"
      },
      "source": [
        "## Objective\n",
        "**Airbnb** is an online marketplace that connects people who want to rent out their homes with people who are looking for accommodations in that locale. One challenge that Airbnb hosts face is determining the **optimal rent price/night**. The amount a host can charge on a nightly basis is closely linked to the dynamics of the marketplace.The objective of this tutorial includes building a machine learning model that predicts the optimal price of a property considering the features of the listings. We use a **Regression model** for Price Prediction and the algorithm used here is **Gradient Boosted Tree Regression**. We also evaluate the model performance to determine how well the model predicts the Airbnb Listing price."
      ]
    },
    {
      "cell_type": "markdown",
      "metadata": {
        "application/vnd.databricks.v1+cell": {
          "inputWidgets": {},
          "nuid": "96816ed7-b08a-4ca3-abb9-f99880c3535d",
          "showTitle": false,
          "title": ""
        },
        "id": "KlMP-chz1n5Y"
      },
      "source": [
        "##Import Spark SQL and Spark ML Libraries\n",
        "Import all the Spark SQL and ML libraries as mentioned below. This is neccessary to access the functions available in those libraries."
      ]
    },
    {
      "cell_type": "code",
      "execution_count": null,
      "metadata": {
        "id": "4r8h63Ha1n5Y"
      },
      "outputs": [],
      "source": [
        "import numpy as np\n",
        "from time import time\n",
        "from decimal import Decimal\n",
        "import pyspark.pandas as ps\n",
        "\n",
        "# XGBoost on ray is needed to run this example.\n",
        "# Please refer to https://docs.ray.io/en/latest/xgboost-ray.html to install it.\n",
        "import ray\n",
        "from xgboost_ray import RayXGBClassifier, RayDMatrix, train, RayParams, predict\n",
        "import raydp\n",
        "from raydp.utils import random_split\n",
        "from raydp.spark import RayMLDataset\n",
        "#from ray import tune\n",
        "\n",
        "# data_process.py at the same directory\n",
        "#from data_process import nyc_taxi_preprocess, NYC_TRAIN_CSV\n",
        "import dask.dataframe as dd\n",
        "from dask.diagnostics import ProgressBar"
      ]
    },
    {
      "cell_type": "code",
      "execution_count": null,
      "metadata": {
        "application/vnd.databricks.v1+cell": {
          "inputWidgets": {},
          "nuid": "958b9b6f-cf84-4689-bf2e-27a24ef16ad9",
          "showTitle": false,
          "title": ""
        },
        "id": "0fgMoc6h1n5Z"
      },
      "outputs": [],
      "source": [
        "# Import Spark SQL and Spark ML libraries\n",
        "from pyspark.sql.types import *\n",
        "from pyspark.sql.functions import *\n",
        "from pyspark.storagelevel import StorageLevel\n",
        "\n",
        "from pyspark.ml import Pipeline\n",
        "from pyspark.ml.feature import VectorAssembler,StringIndexer, VectorIndexer, MinMaxScaler\n",
        "from pyspark.ml.tuning import ParamGridBuilder, CrossValidator, TrainValidationSplit\n",
        "from pyspark.ml.evaluation import RegressionEvaluator\n",
        "from pyspark.ml.regression import GBTRegressor, RandomForestRegressionModel, RandomForestRegressor\n",
        "\n",
        "from pyspark.context import SparkContext\n",
        "from pyspark.sql.session import SparkSession"
      ]
    },
    {
      "cell_type": "markdown",
      "metadata": {
        "application/vnd.databricks.v1+cell": {
          "inputWidgets": {},
          "nuid": "c98ea546-d733-4087-b2d0-1d6d97f9a6e6",
          "showTitle": false,
          "title": ""
        },
        "id": "RPSK4cla1n5Z"
      },
      "source": [
        "## To run the code in PySpark CLI\n",
        "Set the following to True:\n",
        "```\n",
        "PYSPARK_CLI = True\n",
        "```\n",
        "Generate .py(Python) file from Databricks: File > Export > Source File\n",
        "```\n",
        "Run it at the Hadoop/Spark cluster:\n",
        "$ spark-submit Random Forest Regression.py"
      ]
    },
    {
      "cell_type": "code",
      "execution_count": null,
      "metadata": {
        "application/vnd.databricks.v1+cell": {
          "inputWidgets": {},
          "nuid": "24ff2b61-e9cb-4502-b02c-910e9ea55262",
          "showTitle": false,
          "title": ""
        },
        "id": "JlOVYnt11n5a"
      },
      "outputs": [],
      "source": [
        "PYSPARK_CLI = False\n",
        "if PYSPARK_CLI:\n",
        "    sc = SparkContext.getOrCreate()\n",
        "    spark = SparkSession(sc)"
      ]
    },
    {
      "cell_type": "markdown",
      "metadata": {
        "application/vnd.databricks.v1+cell": {
          "inputWidgets": {},
          "nuid": "8454fe34-beeb-4855-a952-001222eec9be",
          "showTitle": false,
          "title": ""
        },
        "id": "rTpp2pH41n5a"
      },
      "source": [
        "##Read the csv file from DBFS (Databricks File System)\n",
        "The file **'airbnb_sample.csv'** consists of various Airbnb Listings and its features. The label column is **'Price'** that indicates the price/night of the Airbnb property.Locate the data file, mention its type and read the file as a pyspark dataframe\n",
        "\n",
        "The url to the sampled file : **https://www.kaggle.com/samyukthamurali/airbnb-ratings-dataset?select=airbnb_sample.csv**. You can download the sampled file from this url and upload it in DBFS."
      ]
    },
    {
      "cell_type": "code",
      "execution_count": null,
      "metadata": {
        "id": "Z-MloZKs1n5a"
      },
      "outputs": [],
      "source": [
        "# Auxiliar functions\n",
        "def equivalent_type(f):\n",
        "    if f == 'datetime64[ns]': return TimestampType()\n",
        "    elif f == 'int64': return LongType()\n",
        "    elif f == 'int32': return IntegerType()\n",
        "    elif f == 'float64': return FloatType()\n",
        "    else: return StringType()\n",
        "\n"
      ]
    },
    {
      "cell_type": "code",
      "execution_count": null,
      "metadata": {
        "id": "rJSxFbNO1n5a"
      },
      "outputs": [],
      "source": [
        "def define_structure(string, format_type):\n",
        "    try: typo = equivalent_type(format_type)\n",
        "    except: typo = StringType()\n",
        "    return StructField(string, typo)\n"
      ]
    },
    {
      "cell_type": "code",
      "execution_count": null,
      "metadata": {
        "id": "m_63l9cU1n5a"
      },
      "outputs": [],
      "source": [
        "# Given pandas dataframe, it will return a spark's dataframe.\n",
        "# Performance: 100MB/10 partitions\n",
        "def pandas_to_spark(pandas_df, num_partition):\n",
        "    columns = list(pandas_df.columns)\n",
        "    types = list(pandas_df.dtypes)\n",
        "    struct_list = []\n",
        "    for column, typo in zip(columns, types):\n",
        "      struct_list.append(define_structure(column, typo))\n",
        "    p_schema = StructType(struct_list)\n",
        "    return spark.createDataFrame(pandas_df, p_schema).repartition(num_partition)\n",
        "    #return sqlContext.createDataFrame(pandas_df, p_schema)"
      ]
    },
    {
      "cell_type": "code",
      "execution_count": null,
      "metadata": {
        "id": "mcSI3cq81n5a",
        "outputId": "df554db7-5430-4462-b060-c439cc0d4f28"
      },
      "outputs": [
        {
          "name": "stderr",
          "output_type": "stream",
          "text": [
            "2022-04-08 00:48:34,503\tINFO worker.py:861 -- Connecting to existing Ray cluster at address: 172.30.0.26:6379\n"
          ]
        },
        {
          "data": {
            "text/plain": [
              "{'node_ip_address': '172.30.0.26',\n",
              " 'raylet_ip_address': '172.30.0.26',\n",
              " 'redis_address': None,\n",
              " 'object_store_address': '/tmp/ray/session_2022-04-07_19-01-43_954995_4123/sockets/plasma_store',\n",
              " 'raylet_socket_name': '/tmp/ray/session_2022-04-07_19-01-43_954995_4123/sockets/raylet',\n",
              " 'webui_url': '127.0.0.1:8265',\n",
              " 'session_dir': '/tmp/ray/session_2022-04-07_19-01-43_954995_4123',\n",
              " 'metrics_export_port': 38615,\n",
              " 'gcs_address': '172.30.0.26:6379',\n",
              " 'address': '172.30.0.26:6379',\n",
              " 'node_id': '88951fc54095205b29f9c860414d6511bd041dac8fba944047078d03'}"
            ]
          },
          "execution_count": 80,
          "metadata": {},
          "output_type": "execute_result"
        }
      ],
      "source": [
        "# shutdown before connect to ray cluster\n",
        "# ray.shutdown()\n",
        "# ray.init(address='auto')\n",
        "\n",
        "# for the host/master node only\n",
        "# ray.init(num_cpus=2)\n",
        "\n",
        "# for the existing cluster\n",
        "ray.init(address='auto')\n"
      ]
    },
    {
      "cell_type": "code",
      "execution_count": null,
      "metadata": {
        "id": "tz2m_Y3u1n5b"
      },
      "outputs": [],
      "source": [
        "# After ray.init, you can use the raydp api to get a spark session\n",
        "#g4dn.2xlarge, 1 GPU, 8 vCPUs, 32 GiB of memory, 225 NVMe SSD, up to 25 Gbps network performance\n",
        "app_name = \"Airbnb Rating with GBT RayDP\"\n",
        "num_executors = 1 #3 #1  3 min_wokers, 5 min_wokers,\n",
        "cores_per_executor = 1 #4, 2, 1\n",
        "memory_per_executor = \"2GB\" #\"6GB\" # \"2GB\" \"1GB\" \"500M\""
      ]
    },
    {
      "cell_type": "code",
      "execution_count": null,
      "metadata": {
        "id": "UWrswwiL1n5b",
        "outputId": "416b7117-8548-4632-88cd-56aef3333a5c"
      },
      "outputs": [
        {
          "name": "stdout",
          "output_type": "stream",
          "text": [
            "\u001b[2m\u001b[36m(RayDPSparkMaster pid=18838)\u001b[0m 2022-04-08 00:48:37,929 WARN NativeCodeLoader [Thread-2]: Unable to load native-hadoop library for your platform... using builtin-java classes where applicable\n",
            "\u001b[2m\u001b[36m(RayDPSparkMaster pid=18838)\u001b[0m 2022-04-08 00:48:37,987 INFO SecurityManager [Thread-2]: Changing view acls to: ubuntu\n",
            "\u001b[2m\u001b[36m(RayDPSparkMaster pid=18838)\u001b[0m 2022-04-08 00:48:37,987 INFO SecurityManager [Thread-2]: Changing modify acls to: ubuntu\n",
            "\u001b[2m\u001b[36m(RayDPSparkMaster pid=18838)\u001b[0m 2022-04-08 00:48:37,988 INFO SecurityManager [Thread-2]: Changing view acls groups to: \n",
            "\u001b[2m\u001b[36m(RayDPSparkMaster pid=18838)\u001b[0m 2022-04-08 00:48:37,988 INFO SecurityManager [Thread-2]: Changing modify acls groups to: \n",
            "\u001b[2m\u001b[36m(RayDPSparkMaster pid=18838)\u001b[0m 2022-04-08 00:48:37,988 INFO SecurityManager [Thread-2]: SecurityManager: authentication disabled; ui acls disabled; users  with view permissions: Set(ubuntu); groups with view permissions: Set(); users  with modify permissions: Set(ubuntu); groups with modify permissions: Set()\n",
            "\u001b[2m\u001b[36m(RayDPSparkMaster pid=18838)\u001b[0m 2022-04-08 00:48:38,296 INFO Utils [Thread-2]: Successfully started service 'RAY_RPC_ENV' on port 41811.\n",
            "\u001b[2m\u001b[36m(RayDPSparkMaster pid=18838)\u001b[0m 2022-04-08 00:48:38,528 INFO RayAppMaster$RayAppMasterEndpoint [dispatcher-event-loop-7]: Registering app Airbnb Rating with GBT RayDP\n",
            "\u001b[2m\u001b[36m(RayDPSparkMaster pid=18838)\u001b[0m 2022-04-08 00:48:38,532 INFO RayAppMaster$RayAppMasterEndpoint [dispatcher-event-loop-7]: Registered app Airbnb Rating with GBT RayDP with ID app-20220408004838-0000\n"
          ]
        }
      ],
      "source": [
        "spark = raydp.init_spark(app_name, num_executors, cores_per_executor, memory_per_executor)\n"
      ]
    },
    {
      "cell_type": "code",
      "execution_count": null,
      "metadata": {
        "application/vnd.databricks.v1+cell": {
          "inputWidgets": {},
          "nuid": "6482be4c-f067-47c9-b0ac-35c938b94601",
          "showTitle": false,
          "title": ""
        },
        "id": "47cLUi1N1n5b"
      },
      "outputs": [],
      "source": [
        "start = time()\n",
        "\n",
        "IS_S3 = False #True False\n",
        "file_name = 'airbnb_listings.csv' #'airbnb-listings.csv' 'airbnb_US.csv' #'airbnb_sample.csv' 'airbnb-listings.csv'\n",
        "if IS_S3:\n",
        "    #aws s3\n",
        "    file_location = \"s3://bigdai-pub/\" + file_name\n",
        "    phrase = \"S3 Data Read Time: \"\n",
        "    #file_location = \"s3://bigdai-pub/airbnb_US.csv\"\n",
        "    #file_s3 = \"s3://bigdai-pub/airbnb-listings.csv\"\n",
        "else:\n",
        "    phrase = \"Local Data Read Time: \"\n",
        "    # local at the same directory of this code\n",
        "    file_location = \"./\" + file_name"
      ]
    },
    {
      "cell_type": "markdown",
      "metadata": {
        "application/vnd.databricks.v1+cell": {
          "inputWidgets": {},
          "nuid": "fbf224af-a624-4c50-9f47-4d99ec88c207",
          "showTitle": false,
          "title": ""
        },
        "id": "JacizcFp1n5c"
      },
      "source": [
        "##Create a temporary view of the dataframe 'df'"
      ]
    },
    {
      "cell_type": "code",
      "execution_count": null,
      "metadata": {
        "application/vnd.databricks.v1+cell": {
          "inputWidgets": {},
          "nuid": "bd82bb99-1479-4d5c-be10-8c36df0f1d44",
          "showTitle": false,
          "title": ""
        },
        "id": "-HE1dHO_1n5c",
        "outputId": "6cd9aa68-4a08-4e2d-e2f2-8bd73d86fc1f"
      },
      "outputs": [
        {
          "name": "stderr",
          "output_type": "stream",
          "text": [
            "\u001b[2m\u001b[33m(raylet)\u001b[0m log4j:WARN No appenders could be found for logger (org.apache.htrace.core.Tracer).\n",
            "\u001b[2m\u001b[33m(raylet)\u001b[0m log4j:WARN Please initialize the log4j system properly.\n",
            "\u001b[2m\u001b[33m(raylet)\u001b[0m log4j:WARN See http://logging.apache.org/log4j/1.2/faq.html#noconfig for more info.\n"
          ]
        },
        {
          "name": "stdout",
          "output_type": "stream",
          "text": [
            "Local Data Read Time:  takes 17.53439736366272 seconds\n"
          ]
        }
      ],
      "source": [
        "import pandas as pd\n",
        "import pyspark.pandas as ps\n",
        "\n",
        "if IS_S3:\n",
        "    '''\n",
        "    data = ray.data.read_csv(file_location).option(\"header\", \"true\") \\\n",
        "        .option(\"inferSchema\", \"true\").option(\"strings_can_be_null\", \"true\") # (NYC_TRAIN_CSV)\n",
        "'''\n",
        "    # [10] col_types: NULL (the default) to infer types from the data.\n",
        "    #data = ray.data.read_csv(file_location)\n",
        "    #data = ray.data.read_csv(file_location).option(arrow_csv_args: {\"strings_can_be_null\": True})\n",
        "    #data = ray.data.read_csv(file_location).option({\"strings_can_be_null\": True})\n",
        "\n",
        "    f1 = file_location\n",
        "    #file_location = \"s3://bigdai-pub/splits\"\n",
        "    #f1=file_location+\"/airbnb_US_x00.csv\"\n",
        "    #f2=file_location+\"/airbnb_US_x01.csv\"\n",
        "    #f3=file_location+\"/airbnb_US_x02.csv\"\n",
        "    #pandasDF = pd.read_csv([f1, f2, f3], on_bad_lines='skip') #, na_filter=False) #, na_values=\"null\") #\n",
        "    # panda to read\n",
        "    pandasDF = pd.read_csv(f1, on_bad_lines='skip') #, na_filter=False) #, na_values=\"null\") #\n",
        "    csv=pandas_to_spark(pandasDF, 10) #spark.createDataFrame(pandasDF)\n",
        "\n",
        "    # dask to read\n",
        "    '''ddf = dd.read_csv(f1, on_bad_lines='skip', dtype=dtypes)\n",
        "    #data = pandas_to_dask(ddf)\n",
        "    ddf.compute(scheduler='processes')'''\n",
        "\n",
        "    # Pyspark Read: Hadoop no class error\n",
        "    '''file_location = \"s3a://bigdai-pub/splits\"\n",
        "    f1=file_location+\"/airbnb_US_x00.csv\"\n",
        "    data = ps.read_csv(f1, on_bad_lines='skip')'''\n",
        "\n",
        "    #     # Pyspark Read: Hadoop no class error\n",
        "    '''data = spark.read.format(\"csv\").option(\"header\", \"true\") \\\n",
        "        .option(\"inferSchema\", \"true\") \\\n",
        "        .load(file_location)'''\n",
        "else: # airbnb-listing.csv # comment if for airbnb_US.csv and airbnb_sample.csv\n",
        "    csv = spark.read.format(\"csv\").option(\"header\", \"true\") \\\n",
        "        .option(\"inferSchema\", \"true\") \\\n",
        "        .option(\"delimiter\", \";\") \\\n",
        "        .load(file_location)\n",
        "\n",
        "end = time()\n",
        "print('{} takes {} seconds'.format(phrase, (end - start))) #round(end - start, 2)))\n"
      ]
    },
    {
      "cell_type": "code",
      "execution_count": null,
      "metadata": {
        "application/vnd.databricks.v1+cell": {
          "inputWidgets": {},
          "nuid": "b5f66379-6f7f-42ec-8e82-d0e0926a1721",
          "showTitle": false,
          "title": ""
        },
        "id": "xUohkx2C1n5c"
      },
      "outputs": [],
      "source": [
        "# Set spark timezone for processing datetime\n",
        "spark.conf.set(\"spark.sql.session.timeZone\", \"UTC\")"
      ]
    },
    {
      "cell_type": "code",
      "execution_count": null,
      "metadata": {
        "id": "zgDpL1Z21n5c",
        "outputId": "2d3c6f38-3008-403e-f483-a387de40dc71"
      },
      "outputs": [
        {
          "name": "stdout",
          "output_type": "stream",
          "text": [
            "root\n",
            " |-- id: string (nullable = true)\n",
            " |-- listing_url: string (nullable = true)\n",
            " |-- scrape_id: string (nullable = true)\n",
            " |-- last_scraped: string (nullable = true)\n",
            " |-- name: string (nullable = true)\n",
            " |-- summary: string (nullable = true)\n",
            " |-- space: string (nullable = true)\n",
            " |-- description: string (nullable = true)\n",
            " |-- experiences_offered: string (nullable = true)\n",
            " |-- neighborhood_overview: string (nullable = true)\n",
            " |-- notes: string (nullable = true)\n",
            " |-- transit: string (nullable = true)\n",
            " |-- access: string (nullable = true)\n",
            " |-- interaction: string (nullable = true)\n",
            " |-- house_rules: string (nullable = true)\n",
            " |-- thumbnail_url: string (nullable = true)\n",
            " |-- medium_url: string (nullable = true)\n",
            " |-- picture_url: string (nullable = true)\n",
            " |-- xl_picture_url: string (nullable = true)\n",
            " |-- host_id: string (nullable = true)\n",
            " |-- host_url: string (nullable = true)\n",
            " |-- host_name: string (nullable = true)\n",
            " |-- host_since: string (nullable = true)\n",
            " |-- host_location: string (nullable = true)\n",
            " |-- host_about: string (nullable = true)\n",
            " |-- host_response_time: string (nullable = true)\n",
            " |-- host_response_rate: string (nullable = true)\n",
            " |-- host_acceptance_rate: string (nullable = true)\n",
            " |-- host_thumbnail_url: string (nullable = true)\n",
            " |-- host_picture_url: string (nullable = true)\n",
            " |-- host_neighbourhood: string (nullable = true)\n",
            " |-- host_listings_count: string (nullable = true)\n",
            " |-- host_total_listings_count: string (nullable = true)\n",
            " |-- host_verifications: string (nullable = true)\n",
            " |-- street: string (nullable = true)\n",
            " |-- neighbourhood: string (nullable = true)\n",
            " |-- neighbourhood_cleansed: string (nullable = true)\n",
            " |-- neighbourhood_group_cleansed: string (nullable = true)\n",
            " |-- city: string (nullable = true)\n",
            " |-- state: string (nullable = true)\n",
            " |-- zipcode: string (nullable = true)\n",
            " |-- market: string (nullable = true)\n",
            " |-- smart_location: string (nullable = true)\n",
            " |-- country_code: string (nullable = true)\n",
            " |-- country: string (nullable = true)\n",
            " |-- latitude: string (nullable = true)\n",
            " |-- longitude: string (nullable = true)\n",
            " |-- property_type: string (nullable = true)\n",
            " |-- room_type: string (nullable = true)\n",
            " |-- accommodates: string (nullable = true)\n",
            " |-- bathrooms: string (nullable = true)\n",
            " |-- bedrooms: string (nullable = true)\n",
            " |-- beds: string (nullable = true)\n",
            " |-- bed_type: string (nullable = true)\n",
            " |-- amenities: string (nullable = true)\n",
            " |-- square_feet: string (nullable = true)\n",
            " |-- price: string (nullable = true)\n",
            " |-- weekly_price: string (nullable = true)\n",
            " |-- monthly_price: string (nullable = true)\n",
            " |-- security_deposit: string (nullable = true)\n",
            " |-- cleaning_fee: string (nullable = true)\n",
            " |-- guests_included: string (nullable = true)\n",
            " |-- extra_people: string (nullable = true)\n",
            " |-- minimum_nights: string (nullable = true)\n",
            " |-- maximum_nights: string (nullable = true)\n",
            " |-- calendar_updated: string (nullable = true)\n",
            " |-- has_availability: string (nullable = true)\n",
            " |-- availability_30: string (nullable = true)\n",
            " |-- availability_60: string (nullable = true)\n",
            " |-- availability_90: string (nullable = true)\n",
            " |-- availability_365: string (nullable = true)\n",
            " |-- calendar_last_scraped: string (nullable = true)\n",
            " |-- number_of_reviews: string (nullable = true)\n",
            " |-- first_review: string (nullable = true)\n",
            " |-- last_review: string (nullable = true)\n",
            " |-- review_scores_rating: string (nullable = true)\n",
            " |-- review_scores_accuracy: string (nullable = true)\n",
            " |-- review_scores_cleanliness: string (nullable = true)\n",
            " |-- review_scores_checkin: string (nullable = true)\n",
            " |-- review_scores_communication: string (nullable = true)\n",
            " |-- review_scores_location: string (nullable = true)\n",
            " |-- review_scores_value: string (nullable = true)\n",
            " |-- license: string (nullable = true)\n",
            " |-- jurisdiction_names: string (nullable = true)\n",
            " |-- cancellation_policy: string (nullable = true)\n",
            " |-- calculated_host_listings_count: string (nullable = true)\n",
            " |-- reviews_per_month: string (nullable = true)\n",
            " |-- geolocation: string (nullable = true)\n",
            " |-- features: string (nullable = true)\n",
            "\n"
          ]
        }
      ],
      "source": [
        "csv.printSchema()"
      ]
    },
    {
      "cell_type": "markdown",
      "metadata": {
        "application/vnd.databricks.v1+cell": {
          "inputWidgets": {},
          "nuid": "a51ecb36-09dc-4aed-92bd-c6756c373cb1",
          "showTitle": false,
          "title": ""
        },
        "id": "8Mq6qUns1n5c"
      },
      "source": [
        "##Selecting features\n",
        "In the following step, we are selecting the features that are useful for Price Prediction. We also select the **'Price'** column which will be the label the model will predict."
      ]
    },
    {
      "cell_type": "code",
      "execution_count": null,
      "metadata": {
        "id": "vtHibFf01n5c"
      },
      "outputs": [],
      "source": [
        "phrase= \"data engineering time: \"\n",
        "start = time()"
      ]
    },
    {
      "cell_type": "code",
      "execution_count": null,
      "metadata": {
        "id": "uGuLsi8d1n5c",
        "outputId": "3ba93e67-7d39-487b-c5e0-bbccf3a4813d"
      },
      "outputs": [
        {
          "name": "stdout",
          "output_type": "stream",
          "text": [
            "+--------+--------------------+--------------+------------+--------------------+--------------------+--------------------+--------------------+-------------------+---------------------+-----+--------------------+--------------------+-----------+--------------------+--------------------+--------------------+--------------------+--------------------+--------+--------------------+---------+----------+--------------------+--------------------+------------------+------------------+--------------------+--------------------+--------------------+------------------+-------------------+-------------------------+--------------------+--------------------+-------------+----------------------+----------------------------+-------------+--------------------+-------+----------+--------------------+------------+-------+------------------+------------------+-------------+---------------+------------+---------+--------+----+--------+--------------------+-----------+-----+------------+-------------+----------------+------------+---------------+------------+--------------+--------------+----------------+----------------+---------------+---------------+---------------+----------------+---------------------+-----------------+------------+-----------+--------------------+----------------------+-------------------------+---------------------+---------------------------+----------------------+-------------------+-------+------------------+-------------------+------------------------------+-----------------+--------------------+--------------------+\n",
            "|      id|         listing_url|     scrape_id|last_scraped|                name|             summary|               space|         description|experiences_offered|neighborhood_overview|notes|             transit|              access|interaction|         house_rules|       thumbnail_url|          medium_url|         picture_url|      xl_picture_url| host_id|            host_url|host_name|host_since|       host_location|          host_about|host_response_time|host_response_rate|host_acceptance_rate|  host_thumbnail_url|    host_picture_url|host_neighbourhood|host_listings_count|host_total_listings_count|  host_verifications|              street|neighbourhood|neighbourhood_cleansed|neighbourhood_group_cleansed|         city|               state|zipcode|    market|      smart_location|country_code|country|          latitude|         longitude|property_type|      room_type|accommodates|bathrooms|bedrooms|beds|bed_type|           amenities|square_feet|price|weekly_price|monthly_price|security_deposit|cleaning_fee|guests_included|extra_people|minimum_nights|maximum_nights|calendar_updated|has_availability|availability_30|availability_60|availability_90|availability_365|calendar_last_scraped|number_of_reviews|first_review|last_review|review_scores_rating|review_scores_accuracy|review_scores_cleanliness|review_scores_checkin|review_scores_communication|review_scores_location|review_scores_value|license|jurisdiction_names|cancellation_policy|calculated_host_listings_count|reviews_per_month|         geolocation|            features|\n",
            "+--------+--------------------+--------------+------------+--------------------+--------------------+--------------------+--------------------+-------------------+---------------------+-----+--------------------+--------------------+-----------+--------------------+--------------------+--------------------+--------------------+--------------------+--------+--------------------+---------+----------+--------------------+--------------------+------------------+------------------+--------------------+--------------------+--------------------+------------------+-------------------+-------------------------+--------------------+--------------------+-------------+----------------------+----------------------------+-------------+--------------------+-------+----------+--------------------+------------+-------+------------------+------------------+-------------+---------------+------------+---------+--------+----+--------+--------------------+-----------+-----+------------+-------------+----------------+------------+---------------+------------+--------------+--------------+----------------+----------------+---------------+---------------+---------------+----------------+---------------------+-----------------+------------+-----------+--------------------+----------------------+-------------------------+---------------------+---------------------------+----------------------+-------------------+-------+------------------+-------------------+------------------------------+-----------------+--------------------+--------------------+\n",
            "|17619081|https://www.airbn...|20170615002708|  2017-06-15|Nice smallroom i ...|Min bolig lægger ...|                null|Min bolig lægger ...|               none|                 null| null|The appartement i...|You have a small ...|       null|- ingen sko inden...|https://a0.muscac...|https://a0.muscac...|https://public.op...|https://a0.muscac...|39150424|https://www.airbn...| Birgitte|2015-07-21|Frederiksberg, Ca...|Trekking is in my...|    within an hour|               100|                null|https://a0.muscac...|https://a0.muscac...|     Frederiksberg|                  2|                        2|email,phone,faceb...|Frederiksberg, Fr...|Frederiksberg|         Frederiksberg|                        null|Frederiksberg|                null|   1855|Copenhagen|Frederiksberg, De...|          DK|Denmark| 55.67597935514723|12.532959778704614|    Apartment|   Private room|           1|        1|       1|   1|Real Bed|Wireless Internet...|       null|  298|        null|         null|            null|        null|              1|           0|             2|             5|           today|            null|              6|              6|              7|              91|           2017-06-15|                2|  2017-03-17| 2017-05-03|                   1|                    10|                       10|                   10|                         10|                     8|                 10|   null|              null|           flexible|                             2|             0.66|55.67597935514723...|Host Is Superhost...|\n",
            "|13356620|https://www.airbn...|20170615002708|  2017-06-15|Spacious 95 m2 3 ...|Spacious and sunn...|The apt. is locat...|Spacious and sunn...|               none|                 null| null|Getting here from...|        Entire flat.|       null|                null|                null|                null|https://public.op...|                null|75748444|https://www.airbn...|  Torsten|2016-06-04|Frederiksberg, Ca...|I live with my gi...|              null|              null|                null|https://a0.muscac...|https://a0.muscac...|     Frederiksberg|                  1|                        1|email,phone,linke...|Frederiksberg, Fr...|Frederiksberg|         Frederiksberg|                        null|Frederiksberg|                null|   1855|      null|Frederiksberg, De...|          DK|Denmark|  55.6759094982106|12.534325864665762|    Apartment|Entire home/apt|           3|        1|       2|   3|Real Bed|TV,Wireless Inter...|       null| null|        null|         null|             993|         364|              2|         132|             2|            28|    7 months ago|            null|              0|              0|              0|               0|           2017-06-15|                5|  2016-06-15| 2016-09-11|                   1|                    10|                       10|                   10|                         10|                    10|                  9|   null|              null|             strict|                             1|             0.41|55.6759094982106,...|Host Has Profile ...|\n",
            "|18993602|https://www.airbn...|20170615002708|  2017-06-15|Bright and lovely...|Lovely newly reno...|                null|Lovely newly reno...|               none|                 null| null|                null|                null|       null|                null|https://a0.muscac...|https://a0.muscac...|https://public.op...|https://a0.muscac...|11008595|https://www.airbn...|   Amalie|2014-01-04|Copenhagen, Capit...|                null|    within an hour|               100|                null|https://a0.muscac...|https://a0.muscac...|        Teglholmen|                  2|                        2|email,phone,revie...|Frederiksberg, Ca...|         null|         Frederiksberg|                        null|Frederiksberg|Capital Region of...|   null|Copenhagen|Frederiksberg, De...|          DK|Denmark|55.691447262778574| 12.53283111135349|    Apartment|Entire home/apt|           2|        1|       1|   1|Real Bed|TV,Internet,Wirel...|       null|  649|        null|         null|            null|         100|              1|           0|             3|          1125|      4 days ago|            null|              9|             19|             19|              36|           2017-06-15|                0|        null|       null|                   0|                  null|                     null|                 null|                       null|                  null|               null|   null|              null|           moderate|                             2|             null|55.69144726277857...|Host Has Profile ...|\n",
            "| 4313438|https://www.airbn...|20170615002708|  2017-06-15|CHAMERENDE FAMILI...|Velkommen til vor...|                null|Velkommen til vor...|               none|                 null| null|                null|                null|       null|                null|                null|                null|https://public.op...|                null| 9273916|https://www.airbn...|    Mette|2013-10-07|Frederiksberg, Ca...|                null|              null|              null|                null|https://a0.muscac...|https://a0.muscac...|     Frederiksberg|                  1|                        1|email,phone,faceb...|Frederiksberg, Fr...|Frederiksberg|         Frederiksberg|                        null|Frederiksberg|                null|   2000|Copenhagen|Frederiksberg, De...|          DK|Denmark| 55.68292450375927|12.536564981736335|    Apartment|Entire home/apt|           4|        1|       2|   3|Real Bed|TV,Internet,Kitch...|       null|  656|        null|         null|            null|        null|              1|           0|             5|          1125|   17 months ago|            null|              0|              0|              0|               0|           2017-06-15|                0|        null|       null|                   0|                  null|                     null|                 null|                       null|                  null|               null|   null|              null|           flexible|                             1|             null|55.68292450375927...|Host Has Profile ...|\n",
            "| 9029859|https://www.airbn...|20170615002708|  2017-06-15|Room in Frederiks...|Welcome to CPH ! ...|                null|Welcome to CPH ! ...|               none|                 null| null|                null|                null|       null|                null|https://a0.muscac...|https://a0.muscac...|https://public.op...|https://a0.muscac...|45996316|https://www.airbn...|    Hasse|2015-10-07|Copenhagen, Capit...|                null|              null|              null|                null|https://a0.muscac...|https://a0.muscac...|     Frederiksberg|                  1|                        1|email,phone,revie...|Frederiksberg, Fr...|Frederiksberg|         Frederiksberg|                        null|Frederiksberg|                null|   1960|Copenhagen|Frederiksberg, De...|          DK|Denmark| 55.68396572265812| 12.55302948723742|    Apartment|   Private room|           2|        1|       1|   1|Real Bed|Wireless Internet...|       null|  232|        null|         null|            null|        null|              1|           0|             3|          1125|   15 months ago|            null|              0|              0|              0|               0|           2017-06-15|                3|  2015-10-25| 2016-03-30|                   1|                    10|                        8|                   10|                         10|                    10|                  9|   null|              null|           flexible|                             1|             0.15|55.68396572265812...|Host Has Profile ...|\n",
            "+--------+--------------------+--------------+------------+--------------------+--------------------+--------------------+--------------------+-------------------+---------------------+-----+--------------------+--------------------+-----------+--------------------+--------------------+--------------------+--------------------+--------------------+--------+--------------------+---------+----------+--------------------+--------------------+------------------+------------------+--------------------+--------------------+--------------------+------------------+-------------------+-------------------------+--------------------+--------------------+-------------+----------------------+----------------------------+-------------+--------------------+-------+----------+--------------------+------------+-------+------------------+------------------+-------------+---------------+------------+---------+--------+----+--------+--------------------+-----------+-----+------------+-------------+----------------+------------+---------------+------------+--------------+--------------+----------------+----------------+---------------+---------------+---------------+----------------+---------------------+-----------------+------------+-----------+--------------------+----------------------+-------------------------+---------------------+---------------------------+----------------------+-------------------+-------+------------------+-------------------+------------------------------+-----------------+--------------------+--------------------+\n",
            "only showing top 5 rows\n",
            "\n"
          ]
        }
      ],
      "source": [
        "\n",
        "csv = csv.withColumn(\"review_scores_rating\", when(col(\"review_scores_rating\") >= 80,1).otherwise(0))\n",
        "csv = csv.withColumn(\"host_response_rate\", csv[\"host_response_rate\"].cast(IntegerType()))\n",
        "csv = csv.withColumn(\"host_listings_count\", csv[\"host_listings_count\"].cast(IntegerType()))\n",
        "csv = csv.withColumn(\"host_total_listings_count\", csv[\"host_total_listings_count\"].cast(IntegerType()))\n",
        "csv = csv.withColumn(\"price\", csv[\"price\"].cast(IntegerType()))\n",
        "csv = csv.withColumn(\"weekly_price\", csv[\"weekly_price\"].cast(IntegerType()))\n",
        "csv = csv.withColumn(\"monthly_price\", csv[\"monthly_price\"].cast(IntegerType()))\n",
        "\n",
        "csv = csv.withColumn(\"maximum_nights\", csv[\"maximum_nights\"].cast(IntegerType()))\n",
        "csv = csv.withColumn(\"review_scores_accuracy\", csv[\"review_scores_accuracy\"].cast(IntegerType()))\n",
        "csv = csv.withColumn(\"review_scores_cleanliness\", csv[\"review_scores_cleanliness\"].cast(IntegerType()))\n",
        "csv = csv.withColumn(\"review_scores_checkin\", csv[\"review_scores_checkin\"].cast(IntegerType()))\n",
        "csv = csv.withColumn(\"review_scores_communication\", csv[\"review_scores_communication\"].cast(IntegerType()))\n",
        "csv = csv.withColumn(\"review_scores_location\", csv[\"review_scores_location\"].cast(IntegerType()))\n",
        "\n",
        "csv = csv.withColumn(\"review_scores_value\", csv[\"review_scores_value\"].cast(IntegerType()))\n",
        "csv = csv.withColumn(\"calculated_host_listings_count\", csv[\"calculated_host_listings_count\"].cast(IntegerType()))\n",
        "csv = csv.withColumn(\"bedrooms\", csv[\"bedrooms\"].cast(IntegerType()))\n",
        "csv = csv.withColumn(\"bathrooms\", csv[\"bathrooms\"].cast(IntegerType()))\n",
        "csv = csv.withColumn(\"beds\", csv[\"beds\"].cast(IntegerType()))\n",
        "csv = csv.withColumn(\"security_deposit\", csv[\"security_deposit\"].cast(IntegerType()))\n",
        "\n",
        "csv = csv.withColumn(\"host_acceptance_rate\", csv[\"host_acceptance_rate\"].cast(IntegerType()))\n",
        "csv = csv.withColumn(\"cleaning_fee\", csv[\"cleaning_fee\"].cast(IntegerType()))\n",
        "csv = csv.withColumn(\"extra_people\", csv[\"extra_people\"].cast(IntegerType()))\n",
        "csv = csv.withColumn(\"minimum_nights\", csv[\"minimum_nights\"].cast(IntegerType()))\n",
        "\n",
        "csv.show(5)\n"
      ]
    },
    {
      "cell_type": "code",
      "execution_count": null,
      "metadata": {
        "application/vnd.databricks.v1+cell": {
          "inputWidgets": {},
          "nuid": "db9631f6-bb4a-42ca-8a3c-0d48af932331",
          "showTitle": false,
          "title": ""
        },
        "id": "H6gRynPL1n5c",
        "outputId": "2d357a31-031e-47a3-a742-21f7d03b4a57"
      },
      "outputs": [
        {
          "name": "stdout",
          "output_type": "stream",
          "text": [
            "+--------------------+-------------------+-------------------------+------------------------------+----------------+------------+------------------+------------------+--------------------+-------------+---------------+--------+------------+-------------+--------------+----------------------+-------------------------+---------------------+---------------------------+----------------------+-------------------+-------------------+--------+---------+----+------------+--------------+-----+\n",
            "|review_scores_rating|host_listings_count|host_total_listings_count|calculated_host_listings_count|security_deposit|cleaning_fee|host_response_time|host_response_rate|host_acceptance_rate|property_type|      room_type|bed_type|weekly_price|monthly_price|maximum_nights|review_scores_accuracy|review_scores_cleanliness|review_scores_checkin|review_scores_communication|review_scores_location|review_scores_value|cancellation_policy|bedrooms|bathrooms|beds|extra_people|minimum_nights|label|\n",
            "+--------------------+-------------------+-------------------------+------------------------------+----------------+------------+------------------+------------------+--------------------+-------------+---------------+--------+------------+-------------+--------------+----------------------+-------------------------+---------------------+---------------------------+----------------------+-------------------+-------------------+--------+---------+----+------------+--------------+-----+\n",
            "|                   1|                  2|                        2|                             2|            null|        null|    within an hour|               100|                null|    Apartment|   Private room|Real Bed|        null|         null|             5|                    10|                       10|                   10|                         10|                     8|                 10|           flexible|       1|        1|   1|           0|             2|  298|\n",
            "|                   1|                  1|                        1|                             1|             993|         364|              null|              null|                null|    Apartment|Entire home/apt|Real Bed|        null|         null|            28|                    10|                       10|                   10|                         10|                    10|                  9|             strict|       2|        1|   3|         132|             2| null|\n",
            "|                   0|                  2|                        2|                             2|            null|         100|    within an hour|               100|                null|    Apartment|Entire home/apt|Real Bed|        null|         null|          1125|                  null|                     null|                 null|                       null|                  null|               null|           moderate|       1|        1|   1|           0|             3|  649|\n",
            "|                   0|                  1|                        1|                             1|            null|        null|              null|              null|                null|    Apartment|Entire home/apt|Real Bed|        null|         null|          1125|                  null|                     null|                 null|                       null|                  null|               null|           flexible|       2|        1|   3|           0|             5|  656|\n",
            "|                   1|                  1|                        1|                             1|            null|        null|              null|              null|                null|    Apartment|   Private room|Real Bed|        null|         null|          1125|                    10|                        8|                   10|                         10|                    10|                  9|           flexible|       1|        1|   1|           0|             3|  232|\n",
            "+--------------------+-------------------+-------------------------+------------------------------+----------------+------------+------------------+------------------+--------------------+-------------+---------------+--------+------------+-------------+--------------+----------------------+-------------------------+---------------------+---------------------------+----------------------+-------------------+-------------------+--------+---------+----+------------+--------------+-----+\n",
            "only showing top 5 rows\n",
            "\n"
          ]
        }
      ],
      "source": [
        "# Select features and label\n",
        "#data =csv.select('Host Listings Count','Host Total Listings Count',\"Neighborhood\",\"Property Type\",\"Room Type\",\"Bed Type\",\"Latitude\",\"Longitude\",\"Accomodates\",\"Bathrooms\",\"Bedrooms\",\"Monthly Price\",\"Guests Included\",\"Extra People\",\"Minimum Nights\",\"Review Scores Rating\",\"Review Scores Accuracy\",\"Review Scores Cleanliness\",\"Review Scores Checkin\",\"Review Scores Communication\",\"Review Scores Location\",\"Review Scores Value\",\"Sentiment\",col(\"Price\").cast(\"Int\").alias(\"label\"))\n",
        "# jwoo\n",
        "#csv = spark.sql(\"SELECT * FROM airbnb_sample_csv\")\n",
        "#airbnb_sample.csv\n",
        "#csv=data\n",
        "# airibnb_US has entire columns while we need only the following column\n",
        "data = csv.select(\"review_scores_rating\", \"host_listings_count\", \"host_total_listings_count\", \"calculated_host_listings_count\", \"security_deposit\", \"cleaning_fee\" , \"host_response_time\",\"host_response_rate\",\"host_acceptance_rate\",\"property_type\",\"room_type\",\"bed_type\", \"weekly_price\",\"monthly_price\",\"maximum_nights\",\"review_scores_accuracy\",\"review_scores_cleanliness\",\"review_scores_checkin\",\"review_scores_communication\",\"review_scores_location\",\"review_scores_value\",\"cancellation_policy\",\"bedrooms\",\"bathrooms\",\"beds\",\"extra_people\",\"minimum_nights\",col(\"price\").cast(\"Int\").alias(\"label\"))\n",
        "\n",
        "#csv.show(5)\n",
        "data.show(5)\n"
      ]
    },
    {
      "cell_type": "code",
      "execution_count": null,
      "metadata": {
        "id": "5ZPOGqtU1n5d",
        "outputId": "ee1a7857-198c-472a-a687-30bc6918dbd3"
      },
      "outputs": [
        {
          "name": "stdout",
          "output_type": "stream",
          "text": [
            "914210\n"
          ]
        }
      ],
      "source": [
        "print(data.count())"
      ]
    },
    {
      "cell_type": "code",
      "execution_count": null,
      "metadata": {
        "id": "xvPuzlin1n5d"
      },
      "outputs": [],
      "source": [
        "# Filter Property Type not in the correct list\n",
        "property_list = [\"Apartment\",\"House\",\"Bed & Breakfast\",\"Condominium\",\"Loft\", \"Townhouse\",\"Other\",\"Villa\", \"Guesthouse\", \"Bungalow\", \"Dorm\", \"Boat\", \"Cabin\", \"Chalet\", \"Boutique hotel\", \"Serviced apartment\", \"Hostel\", \"Camper/RV\", \"Timeshare\", \"Guest suite\", \"Tent\", \"Vacation home\", \"Castle, Treehouse\", \"In-law\", \"Earth House\", \"Hut\", \"Yurt\", \"Entire Floor\", \"Tipi\", \"Nature lodge\", \"Cave\", \"Lighthouse\", \"Casa particular\", \"Train\", \"Island\", \"Igloo\", \"Parking Space\", \"Pension (Korea)\", \"Ryokan (Japan)\", \"Car\", \"Heritage hotel (India)\", \"Plane\", \"Van\"\n",
        "]\n",
        "\n",
        "data = data.filter(data.property_type.isin(property_list))"
      ]
    },
    {
      "cell_type": "code",
      "execution_count": null,
      "metadata": {
        "id": "z3MuAxV31n5d",
        "outputId": "0533ed47-ece8-49e8-ea91-6bfa584a1e4c"
      },
      "outputs": [
        {
          "data": {
            "text/plain": [
              "DataFrame[review_scores_rating: int, host_listings_count: int, host_total_listings_count: int, calculated_host_listings_count: int, security_deposit: int, cleaning_fee: int, host_response_time: string, host_response_rate: int, host_acceptance_rate: int, property_type: string, room_type: string, bed_type: string, weekly_price: int, monthly_price: int, maximum_nights: int, review_scores_accuracy: int, review_scores_cleanliness: int, review_scores_checkin: int, review_scores_communication: int, review_scores_location: int, review_scores_value: int, cancellation_policy: string, bedrooms: int, bathrooms: int, beds: int, extra_people: int, minimum_nights: int, label: int]"
            ]
          },
          "execution_count": 92,
          "metadata": {},
          "output_type": "execute_result"
        }
      ],
      "source": [
        "#csv.persist(pyspark.StorageLevel.MEMORY_AND_DISK_2)\n",
        "#csv.persist(pyspark.StorageLevel.OFF_HEAP)\n",
        "data.persist(StorageLevel.DISK_ONLY_2)\n",
        "\n",
        "#jwoo\n",
        "#data = csv"
      ]
    },
    {
      "cell_type": "markdown",
      "metadata": {
        "application/vnd.databricks.v1+cell": {
          "inputWidgets": {},
          "nuid": "d6b71f0e-1c5d-462c-8b67-4df335228265",
          "showTitle": false,
          "title": ""
        },
        "id": "2Vsmn4-r1n5d"
      },
      "source": [
        "## Data Cleaning\n",
        "It is a critical process for the success of a machine learning model.\n",
        "\n",
        "**Detecting and Removing Outliers:** We determine the **5th** percentile and **95th** percentile values of each of the features. Then filter the dataframe to contain data between these values."
      ]
    },
    {
      "cell_type": "code",
      "execution_count": null,
      "metadata": {
        "application/vnd.databricks.v1+cell": {
          "inputWidgets": {},
          "nuid": "275b2f0d-e98c-4d4c-8539-8d943e4f31b5",
          "showTitle": false,
          "title": ""
        },
        "id": "d59aAO7e1n5d",
        "outputId": "1a58c96e-7894-4f18-c154-ffa8082d1484"
      },
      "outputs": [
        {
          "name": "stdout",
          "output_type": "stream",
          "text": [
            "+--------------------+-------------------+-------------------------+------------------------------+----------------+------------+------------------+------------------+--------------------+-------------+---------------+--------+------------+-------------+--------------+----------------------+-------------------------+---------------------+---------------------------+----------------------+-------------------+-------------------+--------+---------+----+------------+--------------+-----+\n",
            "|review_scores_rating|host_listings_count|host_total_listings_count|calculated_host_listings_count|security_deposit|cleaning_fee|host_response_time|host_response_rate|host_acceptance_rate|property_type|      room_type|bed_type|weekly_price|monthly_price|maximum_nights|review_scores_accuracy|review_scores_cleanliness|review_scores_checkin|review_scores_communication|review_scores_location|review_scores_value|cancellation_policy|bedrooms|bathrooms|beds|extra_people|minimum_nights|label|\n",
            "+--------------------+-------------------+-------------------------+------------------------------+----------------+------------+------------------+------------------+--------------------+-------------+---------------+--------+------------+-------------+--------------+----------------------+-------------------------+---------------------+---------------------------+----------------------+-------------------+-------------------+--------+---------+----+------------+--------------+-----+\n",
            "|                   1|                  2|                        2|                             2|            null|        null|    within an hour|               100|                null|    Apartment|   Private room|Real Bed|        null|         null|             5|                    10|                       10|                   10|                         10|                     8|                 10|           flexible|       1|        1|   1|           0|             2|  298|\n",
            "|                   1|                  1|                        1|                             1|             993|         364|              null|              null|                null|    Apartment|Entire home/apt|Real Bed|        null|         null|            28|                    10|                       10|                   10|                         10|                    10|                  9|             strict|       2|        1|   3|         132|             2| null|\n",
            "|                   0|                  2|                        2|                             2|            null|         100|    within an hour|               100|                null|    Apartment|Entire home/apt|Real Bed|        null|         null|          1125|                  null|                     null|                 null|                       null|                  null|               null|           moderate|       1|        1|   1|           0|             3|  649|\n",
            "|                   0|                  1|                        1|                             1|            null|        null|              null|              null|                null|    Apartment|Entire home/apt|Real Bed|        null|         null|          1125|                  null|                     null|                 null|                       null|                  null|               null|           flexible|       2|        1|   3|           0|             5|  656|\n",
            "|                   1|                  1|                        1|                             1|            null|        null|              null|              null|                null|    Apartment|   Private room|Real Bed|        null|         null|          1125|                    10|                        8|                   10|                         10|                    10|                  9|           flexible|       1|        1|   1|           0|             3|  232|\n",
            "+--------------------+-------------------+-------------------------+------------------------------+----------------+------------+------------------+------------------+--------------------+-------------+---------------+--------+------------+-------------+--------------+----------------------+-------------------------+---------------------+---------------------------+----------------------+-------------------+-------------------+--------+---------+----+------------+--------------+-----+\n",
            "only showing top 5 rows\n",
            "\n"
          ]
        }
      ],
      "source": [
        "# approxQuantile() to determine the 5th and 95th percentile values\n",
        "# outliers = data.stat.approxQuantile(['label','Host Listings Count','Host Total Listings Count',\"Accomodates\",\"Bathrooms\",\"Bedrooms\",\"Monthly Price\",\"Guests Included\",\"Extra People\",\"Minimum Nights\"],[0.05,0.95],0.0)\n",
        "# outliers = data.stat.approxQuantile(['label','Host Listings Count','Host Total Listings Count', \"Bathrooms\",\"Bedrooms\",\"Monthly Price\",\"Guests Included\",\"Extra People\",\"Minimum Nights\"],[0.05,0.95],0.0)\n",
        "\n",
        "\n",
        "\n",
        "data.show(5)"
      ]
    },
    {
      "cell_type": "markdown",
      "metadata": {
        "application/vnd.databricks.v1+cell": {
          "inputWidgets": {},
          "nuid": "95f984c6-8b8c-43f2-be86-a607e0f73bea",
          "showTitle": false,
          "title": ""
        },
        "id": "xQFArEXU1n5d"
      },
      "source": [
        "##Data Cleaning\n",
        "**Handling Missing Values:** Filling the missing values of numeric columns with **'0'** and string columns with **'NA'**"
      ]
    },
    {
      "cell_type": "code",
      "execution_count": null,
      "metadata": {
        "application/vnd.databricks.v1+cell": {
          "inputWidgets": {},
          "nuid": "2c710d20-790d-4569-bb0e-c47805888c0b",
          "showTitle": false,
          "title": ""
        },
        "id": "1BSMKqi21n5d",
        "outputId": "c5da15b4-fd56-4d6d-a9da-6ea4abd9724c"
      },
      "outputs": [
        {
          "name": "stdout",
          "output_type": "stream",
          "text": [
            "+--------------------+-------------------+-------------------------+------------------------------+----------------+------------+------------------+------------------+--------------------+-------------+---------------+--------+------------+-------------+--------------+----------------------+-------------------------+---------------------+---------------------------+----------------------+-------------------+-------------------+--------+---------+----+------------+--------------+-----+\n",
            "|review_scores_rating|host_listings_count|host_total_listings_count|calculated_host_listings_count|security_deposit|cleaning_fee|host_response_time|host_response_rate|host_acceptance_rate|property_type|      room_type|bed_type|weekly_price|monthly_price|maximum_nights|review_scores_accuracy|review_scores_cleanliness|review_scores_checkin|review_scores_communication|review_scores_location|review_scores_value|cancellation_policy|bedrooms|bathrooms|beds|extra_people|minimum_nights|label|\n",
            "+--------------------+-------------------+-------------------------+------------------------------+----------------+------------+------------------+------------------+--------------------+-------------+---------------+--------+------------+-------------+--------------+----------------------+-------------------------+---------------------+---------------------------+----------------------+-------------------+-------------------+--------+---------+----+------------+--------------+-----+\n",
            "|                   1|                  2|                        2|                             2|               0|           0|    within an hour|               100|                   0|    Apartment|   Private room|Real Bed|           0|            0|             5|                    10|                       10|                   10|                         10|                     8|                 10|           flexible|       1|        1|   1|           0|             2|  298|\n",
            "|                   1|                  1|                        1|                             1|             993|         364|                NA|                 0|                   0|    Apartment|Entire home/apt|Real Bed|           0|            0|            28|                    10|                       10|                   10|                         10|                    10|                  9|             strict|       2|        1|   3|         132|             2|    0|\n",
            "|                   0|                  2|                        2|                             2|               0|         100|    within an hour|               100|                   0|    Apartment|Entire home/apt|Real Bed|           0|            0|          1125|                     0|                        0|                    0|                          0|                     0|                  0|           moderate|       1|        1|   1|           0|             3|  649|\n",
            "|                   0|                  1|                        1|                             1|               0|           0|                NA|                 0|                   0|    Apartment|Entire home/apt|Real Bed|           0|            0|          1125|                     0|                        0|                    0|                          0|                     0|                  0|           flexible|       2|        1|   3|           0|             5|  656|\n",
            "|                   1|                  1|                        1|                             1|               0|           0|                NA|                 0|                   0|    Apartment|   Private room|Real Bed|           0|            0|          1125|                    10|                        8|                   10|                         10|                    10|                  9|           flexible|       1|        1|   1|           0|             3|  232|\n",
            "+--------------------+-------------------+-------------------------+------------------------------+----------------+------------+------------------+------------------+--------------------+-------------+---------------+--------+------------+-------------+--------------+----------------------+-------------------------+---------------------+---------------------------+----------------------+-------------------+-------------------+--------+---------+----+------------+--------------+-----+\n",
            "only showing top 5 rows\n",
            "\n"
          ]
        }
      ],
      "source": [
        "# Replacing missing values with '0' and 'NA' for numeric columns and string columns respectively\n",
        "data_clean = data.na.fill(value=0).na.fill(\"NA\")\n",
        "data_clean.show(5)\n"
      ]
    },
    {
      "cell_type": "markdown",
      "metadata": {
        "application/vnd.databricks.v1+cell": {
          "inputWidgets": {},
          "nuid": "38fd981b-7e37-4cf8-a0e8-bf1368816242",
          "showTitle": false,
          "title": ""
        },
        "id": "m4PGQ86C1n5e"
      },
      "source": [
        "## Correlation\n",
        "Correlation determines how one variable changes in relation with the other variable. It gives us an idea about the degree of the relationship of the two variables. Determine the correlation of the label **'price'** with the features of the data indicating the **dependence** between the label and each of the features. We can iteratively try to remove the features with less correlation to improve model performance."
      ]
    },
    {
      "cell_type": "code",
      "execution_count": null,
      "metadata": {
        "application/vnd.databricks.v1+cell": {
          "inputWidgets": {},
          "nuid": "9fe95428-cac4-4685-8b62-7f5093c121de",
          "showTitle": false,
          "title": ""
        },
        "id": "H1V0_MO11n5e",
        "outputId": "9d49a07a-571d-48b9-cf14-ad13785dc842"
      },
      "outputs": [
        {
          "name": "stdout",
          "output_type": "stream",
          "text": [
            "Correlation to PRICE for  host_listings_count 0.04027415372210895\n",
            "Correlation to PRICE for  host_total_listings_count 0.04027415372210895\n",
            "Correlation to PRICE for  beds 0.2667896213673431\n",
            "Correlation to PRICE for  bathrooms 0.2153421395455276\n",
            "Correlation to PRICE for  bedrooms 0.327902693901976\n",
            "Correlation to PRICE for  monthly_price 0.13732364833838634\n",
            "Correlation to PRICE for  extra_people 0.197763106643986\n",
            "Correlation to PRICE for  minimum_nights 0.0008857971743691394\n",
            "Correlation to PRICE for  review_scores_rating -0.018744816261029598\n",
            "Correlation to PRICE for  review_scores_accuracy -0.025789155731662895\n",
            "Correlation to PRICE for  review_scores_cleanliness -0.021992965383685763\n",
            "Correlation to PRICE for  review_scores_checkin -0.027763330521278922\n",
            "Correlation to PRICE for  review_scores_communication -0.02742904891380971\n",
            "Correlation to PRICE for  review_scores_location -0.021258931791208094\n",
            "Correlation to PRICE for  review_scores_value -0.02954309263075418\n",
            "Correlation to PRICE for  label 1.0\n"
          ]
        }
      ],
      "source": [
        "import six\n",
        "\n",
        "#df_Corr=data_clean.select(\"Host Listings Count\",\"Host Total Listings Count\",\"Neighborhood\",\t\"Latitude\",\"Longitude\",\"Property Type\",\"Room Type\",\"Bed Type\",\"Accomodates\",\"Bathrooms\",\"Bedrooms\",\t\"Monthly Price\",\"Guests Included\",\"Extra People\",\"Minimum Nights\",\"Review Scores Rating\",\"Review Scores Accuracy\",\"Review Scores Cleanliness\",\"Review Scores Checkin\",\"Review Scores Communication\",\"Review Scores Location\",\"Review Scores Value\",\"Sentiment\",\"label\")\n",
        "#jwoo\n",
        "df_Corr=data_clean.select(\"host_listings_count\",\"host_total_listings_count\",\"property_type\",\"room_type\", \"bed_type\", \"beds\", \"bathrooms\",\"bedrooms\", \"monthly_price\", \"extra_people\",\"minimum_nights\",\"review_scores_rating\",\"review_scores_accuracy\",\"review_scores_cleanliness\",\"review_scores_checkin\",\"review_scores_communication\",\"review_scores_location\",\"review_scores_value\", \"label\")\n",
        "# Determining correlation using DataFrameStatFunctions.corr\n",
        "for i in df_Corr.columns:\n",
        "   if not( isinstance(df_Corr.select(i).take(1)[0][0], six.string_types)):\n",
        "      print( \"Correlation to PRICE for \", i, df_Corr.stat.corr('label',i))"
      ]
    },
    {
      "cell_type": "markdown",
      "metadata": {
        "application/vnd.databricks.v1+cell": {
          "inputWidgets": {},
          "nuid": "0042633e-7b20-45a6-8d54-5fbe9f478cf5",
          "showTitle": false,
          "title": ""
        },
        "id": "kax7Xeh11n5e"
      },
      "source": [
        "## Feature Transformation\n",
        "Convert the string type columns into indices using StringIndexer"
      ]
    },
    {
      "cell_type": "code",
      "execution_count": null,
      "metadata": {
        "application/vnd.databricks.v1+cell": {
          "inputWidgets": {},
          "nuid": "1308c3f8-c337-4794-b6ff-e30e32361c82",
          "showTitle": false,
          "title": ""
        },
        "id": "R5hgRTUM1n5e",
        "outputId": "737e0f84-4284-40ad-a2fd-7c02ce052889"
      },
      "outputs": [
        {
          "name": "stdout",
          "output_type": "stream",
          "text": [
            "+--------------------+-------------------+-------------------------+------------------------------+----------------+------------+------------------+------------------+--------------------+-------------+---------------+--------+------------+-------------+--------------+----------------------+-------------------------+---------------------+---------------------------+----------------------+-------------------+-------------------+--------+---------+----+------------+--------------+-----+------------------------+-------------------------+-------------------+---------------+--------------+--------------------------+\n",
            "|review_scores_rating|host_listings_count|host_total_listings_count|calculated_host_listings_count|security_deposit|cleaning_fee|host_response_time|host_response_rate|host_acceptance_rate|property_type|      room_type|bed_type|weekly_price|monthly_price|maximum_nights|review_scores_accuracy|review_scores_cleanliness|review_scores_checkin|review_scores_communication|review_scores_location|review_scores_value|cancellation_policy|bedrooms|bathrooms|beds|extra_people|minimum_nights|label|host_response_time_index|cancellation_policy_index|property_type_index|room_type_index|bed_type_index|review_scores_rating_index|\n",
            "+--------------------+-------------------+-------------------------+------------------------------+----------------+------------+------------------+------------------+--------------------+-------------+---------------+--------+------------+-------------+--------------+----------------------+-------------------------+---------------------+---------------------------+----------------------+-------------------+-------------------+--------+---------+----+------------+--------------+-----+------------------------+-------------------------+-------------------+---------------+--------------+--------------------------+\n",
            "|                   1|                  2|                        2|                             2|               0|           0|    within an hour|               100|                   0|    Apartment|   Private room|Real Bed|           0|            0|             5|                    10|                       10|                   10|                         10|                     8|                 10|           flexible|       1|        1|   1|           0|             2|  298|                     0.0|                      0.0|                0.0|            1.0|           0.0|                       0.0|\n",
            "|                   1|                  1|                        1|                             1|             993|         364|                NA|                 0|                   0|    Apartment|Entire home/apt|Real Bed|           0|            0|            28|                    10|                       10|                   10|                         10|                    10|                  9|             strict|       2|        1|   3|         132|             2|    0|                     1.0|                      1.0|                0.0|            0.0|           0.0|                       0.0|\n",
            "|                   0|                  2|                        2|                             2|               0|         100|    within an hour|               100|                   0|    Apartment|Entire home/apt|Real Bed|           0|            0|          1125|                     0|                        0|                    0|                          0|                     0|                  0|           moderate|       1|        1|   1|           0|             3|  649|                     0.0|                      2.0|                0.0|            0.0|           0.0|                       1.0|\n",
            "|                   0|                  1|                        1|                             1|               0|           0|                NA|                 0|                   0|    Apartment|Entire home/apt|Real Bed|           0|            0|          1125|                     0|                        0|                    0|                          0|                     0|                  0|           flexible|       2|        1|   3|           0|             5|  656|                     1.0|                      0.0|                0.0|            0.0|           0.0|                       1.0|\n",
            "|                   1|                  1|                        1|                             1|               0|           0|                NA|                 0|                   0|    Apartment|   Private room|Real Bed|           0|            0|          1125|                    10|                        8|                   10|                         10|                    10|                  9|           flexible|       1|        1|   1|           0|             3|  232|                     1.0|                      0.0|                0.0|            1.0|           0.0|                       0.0|\n",
            "+--------------------+-------------------+-------------------------+------------------------------+----------------+------------+------------------+------------------+--------------------+-------------+---------------+--------+------------+-------------+--------------+----------------------+-------------------------+---------------------+---------------------------+----------------------+-------------------+-------------------+--------+---------+----+------------+--------------+-----+------------------------+-------------------------+-------------------+---------------+--------------+--------------------------+\n",
            "only showing top 5 rows\n",
            "\n"
          ]
        }
      ],
      "source": [
        "# Converting the String type columns into indices\n",
        "data_clean = StringIndexer(inputCol='host_response_time', outputCol='host_response_time_index').setHandleInvalid(\"skip\").fit(data_clean).transform(data_clean)\n",
        "data_clean = StringIndexer(inputCol='cancellation_policy', outputCol='cancellation_policy_index').setHandleInvalid(\"skip\").fit(data_clean).transform(data_clean)\n",
        "\n",
        "data_clean = StringIndexer(inputCol='property_type', outputCol='property_type_index').setHandleInvalid(\"keep\").fit(data_clean).transform(data_clean)\n",
        "data_clean= StringIndexer(inputCol='room_type', outputCol='room_type_index').setHandleInvalid(\"keep\").fit(data_clean).transform(data_clean)\n",
        "data_clean = StringIndexer(inputCol='bed_type', outputCol='bed_type_index').setHandleInvalid(\"keep\").fit(data_clean).transform(data_clean)\n",
        "\n",
        "data_clean = StringIndexer(inputCol=\"review_scores_rating\", outputCol='review_scores_rating_index').fit(data_clean).transform(data_clean)\n",
        "\n",
        "data_clean.show(5)\n"
      ]
    },
    {
      "cell_type": "markdown",
      "metadata": {
        "application/vnd.databricks.v1+cell": {
          "inputWidgets": {},
          "nuid": "54b6a397-5e57-4536-afe3-7e97f7442e1c",
          "showTitle": false,
          "title": ""
        },
        "id": "DbABsrUX1n5e"
      },
      "source": [
        "##Split the Data\n",
        "It is common practice when building supervised machine learning models to split the source data, using some of it to train the model and reserving some to test the trained model. Here we split the data into train data and test data. We have split the data in the ratio of **70:30**"
      ]
    },
    {
      "cell_type": "code",
      "execution_count": null,
      "metadata": {
        "application/vnd.databricks.v1+cell": {
          "inputWidgets": {},
          "nuid": "19c15d28-f4fb-4048-80d1-663ece99b08b",
          "showTitle": false,
          "title": ""
        },
        "id": "NUdOdQGy1n5e",
        "outputId": "0b38698d-094e-4aa7-f638-6fe932f62044"
      },
      "outputs": [
        {
          "name": "stdout",
          "output_type": "stream",
          "text": [
            "Training Rows: 250749  Testing Rows: 107620\n"
          ]
        }
      ],
      "source": [
        "# Split the data for gradient boosted tree regression\n",
        "splits = data_clean.randomSplit([0.7, 0.3])\n",
        "train = splits[0]\n",
        "test = splits[1].withColumnRenamed(\"label\", \"trueLabel\")\n",
        "\n",
        "print (\"Training Rows:\", train.count(), \" Testing Rows:\", test.count())"
      ]
    },
    {
      "cell_type": "markdown",
      "metadata": {
        "application/vnd.databricks.v1+cell": {
          "inputWidgets": {},
          "nuid": "899a0aef-8289-43af-81a5-81e4b606b7c1",
          "showTitle": false,
          "title": ""
        },
        "id": "ytbTgZ641n5e"
      },
      "source": [
        "## Define the Pipeline\n",
        "Define a pipeline for feature transformation. It creates a feature vector and trains a regression model\n",
        "1. A **VectorAssembler** that combines categorical features into a single vector.\n",
        "2. A **Vector Indexer** that creates indices for a vector of categorical features.\n",
        "3. A **VectorAssembler** that creates a vector of continuous numeric features.\n",
        "4. A **MinMaxScaler** to normalize the continuous numeric features.\n",
        "5. A **VectorAssembler** that creates a vector of categorical and continuous features.\n",
        "6. A **GBT Regressor** that trains a Regression model.\n",
        "7. **Process pipeline** with the series of transformations above."
      ]
    },
    {
      "cell_type": "code",
      "execution_count": null,
      "metadata": {
        "application/vnd.databricks.v1+cell": {
          "inputWidgets": {},
          "nuid": "20cc50b4-19c8-4968-af7d-a36dd47db188",
          "showTitle": false,
          "title": ""
        },
        "id": "8lz9HqFw1n5e"
      },
      "outputs": [],
      "source": [
        "# Combine Categorical features into a single vector\n",
        "#jwoo\n",
        "catVect = VectorAssembler(inputCols =['host_response_time_index', 'cancellation_policy_index', 'property_type_index', 'room_type_index', 'bed_type_index', 'review_scores_rating_index'], outputCol=\"catFeatures\")\n",
        "#catVect = VectorAssembler(inputCols =['property_type_index', 'room_type_index', 'bed_type_index'], outputCol=\"catFeatures\")\n",
        "\n",
        "# Create indices for the vector of categorical features\n",
        "catIdx = VectorIndexer(inputCol = catVect.getOutputCol(), outputCol = \"idxCatFeatures\").setHandleInvalid(\"keep\")\n",
        "\n",
        "#Create a vector of the numeric features\n",
        "#numVect = VectorAssembler(inputCols = [\"Host Listings Count\",\"Host Total Listings Count\",\"Latitude\",\"Longitude\",\"Accomodates\",\"Bathrooms\",\"Bedrooms\",\"Monthly Price\",\"Guests Included\",\"Extra People\",\"Minimum Nights\",\"Review Scores Rating\",\"Review Scores Accuracy\",\"Review Scores Cleanliness\",\"Review Scores Checkin\",\"Review Scores Communication\",\"Review Scores Location\",\"Review Scores Value\",\"Sentiment\"], outputCol=\"numFeatures\")\n",
        "#jwoo\n",
        "numVect = VectorAssembler(inputCols = [\"host_listings_count\", \"host_total_listings_count\",\"bathrooms\",\"bedrooms\",\"monthly_price\",\"minimum_nights\",\"review_scores_rating\",\"review_scores_accuracy\",\"review_scores_cleanliness\",\"review_scores_checkin\",\"review_scores_communication\",\"review_scores_location\",\"review_scores_value\"], outputCol=\"numFeatures\")\n",
        "\n",
        "# Scale the numeric features\n",
        "minMax = MinMaxScaler(inputCol = numVect.getOutputCol(), outputCol=\"normFeatures\")\n",
        "\n",
        "#Create a vector of categorical and numeric features\n",
        "featVect = VectorAssembler(inputCols=[\"idxCatFeatures\", \"normFeatures\"],  outputCol=\"features\")\n",
        "\n",
        "# Gradient Boosted Tree Regression model: but categorical feature 0 has 42 values.\n",
        "# gbt = GBTRegressor(labelCol=\"label\", featuresCol=\"features\", maxBins=50) # maxBins=40) # maxBins=2904 ) #\n",
        "gbt = RandomForestRegressor(labelCol=\"label\", featuresCol=\"features\", maxBins=50)\n",
        "\n",
        "# Process the pipeline with the transformations\n",
        "pipeline = Pipeline(stages=[catVect,catIdx,numVect, minMax,featVect, gbt])\n"
      ]
    },
    {
      "cell_type": "code",
      "execution_count": null,
      "metadata": {
        "id": "62ij9DIY1n5f",
        "outputId": "d54fcf10-cd92-4034-af38-5a5c3d9527e2"
      },
      "outputs": [
        {
          "name": "stdout",
          "output_type": "stream",
          "text": [
            "data engineering time:  takes 32.27800273895264 seconds\n"
          ]
        }
      ],
      "source": [
        "end=time()\n",
        "print('{} takes {} seconds'.format(phrase, (end - start))) #round(end - start, 2)))"
      ]
    },
    {
      "cell_type": "code",
      "execution_count": null,
      "metadata": {
        "id": "uvtQQISG1n5f",
        "outputId": "e4410847-ccbd-4bda-dbf4-2811520c7b1e"
      },
      "outputs": [
        {
          "name": "stdout",
          "output_type": "stream",
          "text": [
            "+------------------+\n",
            "|     property_type|\n",
            "+------------------+\n",
            "|         Apartment|\n",
            "|         Townhouse|\n",
            "|   Bed & Breakfast|\n",
            "|       Earth House|\n",
            "|       Guest suite|\n",
            "|         Timeshare|\n",
            "|               Hut|\n",
            "|         Camper/RV|\n",
            "|    Boutique hotel|\n",
            "|              Loft|\n",
            "|        Guesthouse|\n",
            "|            Hostel|\n",
            "|        Lighthouse|\n",
            "|             Villa|\n",
            "|             Other|\n",
            "|Serviced apartment|\n",
            "|            In-law|\n",
            "|      Nature lodge|\n",
            "|              Dorm|\n",
            "|       Condominium|\n",
            "+------------------+\n",
            "only showing top 20 rows\n",
            "\n"
          ]
        }
      ],
      "source": [
        "#data_clean.select('property_type_index').distinct().show()\n",
        "data_clean.select('property_type').distinct().show()\n"
      ]
    },
    {
      "cell_type": "code",
      "execution_count": null,
      "metadata": {
        "id": "dt6H4oRs1n5f",
        "outputId": "7e7befb4-5c3a-4752-fd87-1b4d1f7c9706"
      },
      "outputs": [
        {
          "name": "stdout",
          "output_type": "stream",
          "text": [
            "+---------------+\n",
            "|      room_type|\n",
            "+---------------+\n",
            "|    Shared room|\n",
            "|Entire home/apt|\n",
            "|   Private room|\n",
            "+---------------+\n",
            "\n"
          ]
        }
      ],
      "source": [
        "data_clean.select(\"room_type\").distinct().show()\n"
      ]
    },
    {
      "cell_type": "code",
      "execution_count": null,
      "metadata": {
        "id": "IVUgFCqt1n5f",
        "outputId": "6b6abd14-32b6-4f5b-d17d-af64c0bc1afc"
      },
      "outputs": [
        {
          "name": "stdout",
          "output_type": "stream",
          "text": [
            "+-------------+\n",
            "|     bed_type|\n",
            "+-------------+\n",
            "|       Airbed|\n",
            "|        Futon|\n",
            "|Pull-out Sofa|\n",
            "|        Couch|\n",
            "|     Real Bed|\n",
            "+-------------+\n",
            "\n"
          ]
        }
      ],
      "source": [
        "data_clean.select(\"bed_type\").distinct().show()\n"
      ]
    },
    {
      "cell_type": "code",
      "execution_count": null,
      "metadata": {
        "id": "ak58M24j1n5f",
        "outputId": "6555f5a5-f7cd-4413-dd44-e315dd4d2734"
      },
      "outputs": [
        {
          "name": "stdout",
          "output_type": "stream",
          "text": [
            "+-----+\n",
            "|count|\n",
            "+-----+\n",
            "|   41|\n",
            "+-----+\n",
            "\n"
          ]
        }
      ],
      "source": [
        "from pyspark.sql.functions import col, countDistinct\n",
        "\n",
        "data_clean.agg(countDistinct(col(\"property_type_index\")).alias(\"count\")).show()\n"
      ]
    },
    {
      "cell_type": "code",
      "execution_count": null,
      "metadata": {
        "id": "2gjfTM5W1n5g",
        "outputId": "4e907974-f15f-40dc-e981-c6a0b5c57bc8"
      },
      "outputs": [
        {
          "name": "stdout",
          "output_type": "stream",
          "text": [
            "+-----+\n",
            "|count|\n",
            "+-----+\n",
            "|    3|\n",
            "+-----+\n",
            "\n"
          ]
        }
      ],
      "source": [
        "data_clean.agg(countDistinct(col(\"room_type_index\")).alias(\"count\")).show()"
      ]
    },
    {
      "cell_type": "code",
      "execution_count": null,
      "metadata": {
        "id": "NFMSJpUy1n5g",
        "outputId": "812596fe-1a59-4e01-dc74-3bec5854e31e"
      },
      "outputs": [
        {
          "name": "stdout",
          "output_type": "stream",
          "text": [
            "+-----+\n",
            "|count|\n",
            "+-----+\n",
            "|    5|\n",
            "+-----+\n",
            "\n"
          ]
        }
      ],
      "source": [
        "data_clean.agg(countDistinct(col(\"bed_type_index\")).alias(\"count\")).show()"
      ]
    },
    {
      "cell_type": "markdown",
      "metadata": {
        "application/vnd.databricks.v1+cell": {
          "inputWidgets": {},
          "nuid": "2769a7fc-ed61-4807-abb6-74578b6920fb",
          "showTitle": false,
          "title": ""
        },
        "id": "PPm94j0G1n5g"
      },
      "source": [
        "### Train a Regression model using Parameter Tuning\n",
        "Use the  **CrossValidator** class to evaluate each combination of parameters defined in a **ParameterGrid** against multiple folds of the data split into training and validation datasets, in order to find the best performing parameters. It is used to find the best model for the data. Here the number of folds is assigned to **2**."
      ]
    },
    {
      "cell_type": "code",
      "execution_count": null,
      "metadata": {
        "id": "doiuJY3w1n5g"
      },
      "outputs": [],
      "source": [
        "# Data Science\n",
        "start=time()"
      ]
    },
    {
      "cell_type": "code",
      "execution_count": null,
      "metadata": {
        "application/vnd.databricks.v1+cell": {
          "inputWidgets": {},
          "nuid": "e1a30a4b-2628-46b5-950e-2b910e431078",
          "showTitle": false,
          "title": ""
        },
        "id": "gjc1Fxuo1n5g"
      },
      "outputs": [],
      "source": [
        "# Defining the parameter grid\n",
        "paramGrid = (ParamGridBuilder()\n",
        "            .addGrid(gbt.maxDepth,[2,3,9]) #max_depth default 9 at XGBoost: 29\n",
        "            .addGrid(gbt.minInfoGain,[0.0, 0.7])\n",
        "            .build())\n",
        "\n",
        "# Number of folds\n",
        "K = 3\n",
        "#cv = CrossValidator(estimator=pipeline, evaluator=RegressionEvaluator(), estimatorParamMaps=paramGrid, numFolds=K)\n",
        "cv = TrainValidationSplit(estimator=pipeline, evaluator=RegressionEvaluator(), estimatorParamMaps=paramGrid, trainRatio=0.7)\n",
        "\n",
        "\n"
      ]
    },
    {
      "cell_type": "code",
      "execution_count": null,
      "metadata": {
        "id": "YRvH98xL1n5g"
      },
      "outputs": [],
      "source": [
        "# Train the model\n",
        "model = cv.fit(train)"
      ]
    },
    {
      "cell_type": "code",
      "execution_count": null,
      "metadata": {
        "id": "jc3Mk0vq1n5g",
        "outputId": "9d07545d-b0b2-41a4-aa61-b37d285ac3cb"
      },
      "outputs": [
        {
          "name": "stdout",
          "output_type": "stream",
          "text": [
            "Training Time takes 135.26247572898865 seconds\n"
          ]
        }
      ],
      "source": [
        "end=time()\n",
        "print('{} takes {} seconds'.format(\"Training Time\", (end - start))) #round(end - start, 2)))"
      ]
    },
    {
      "cell_type": "markdown",
      "metadata": {
        "application/vnd.databricks.v1+cell": {
          "inputWidgets": {},
          "nuid": "8389c95a-cf76-4ad6-b12b-6c22f0830acc",
          "showTitle": false,
          "title": ""
        },
        "id": "Kzr3utnz1n5g"
      },
      "source": [
        "### Test the Pipeline Model\n",
        "The model produced by the pipeline is a transformer that will apply all of the stages in the pipeline to a specified DataFrame and apply the trained model to generate predictions. In this case, we will transform the **test** DataFrame using the pipeline to generate label predictions."
      ]
    },
    {
      "cell_type": "code",
      "execution_count": null,
      "metadata": {
        "application/vnd.databricks.v1+cell": {
          "inputWidgets": {},
          "nuid": "4d22e607-3e06-4e81-aead-66ce4fe36d23",
          "showTitle": false,
          "title": ""
        },
        "id": "TmO8HKh91n5g",
        "outputId": "2dfbc87b-bb9c-4b74-b952-117d8b6c9ebc"
      },
      "outputs": [
        {
          "name": "stdout",
          "output_type": "stream",
          "text": [
            "+--------------------+------------------+---------+\n",
            "|        normFeatures|        prediction|trueLabel|\n",
            "+--------------------+------------------+---------+\n",
            "|(13,[2,3,5],[0.12...|206.93462620795268|       50|\n",
            "|(13,[2,4,5],[0.12...|371.59270867201906|      597|\n",
            "|[0.0,0.0,0.125,0....| 80.44399190815916|      265|\n",
            "|[0.0,0.0,0.125,0....| 69.33166822705309|       35|\n",
            "|(13,[2,3,5],[0.12...| 81.75511663886071|       30|\n",
            "+--------------------+------------------+---------+\n",
            "only showing top 5 rows\n",
            "\n"
          ]
        }
      ],
      "source": [
        "# Transform the test data and generate predictions by applying the trained model\n",
        "prediction = model.transform(test)\n",
        "predicted = prediction.select(\"normFeatures\", \"prediction\", \"trueLabel\")\n",
        "predicted.show(5)"
      ]
    },
    {
      "cell_type": "markdown",
      "metadata": {
        "application/vnd.databricks.v1+cell": {
          "inputWidgets": {},
          "nuid": "5922a03e-4790-468f-90a4-0ee30aedf09b",
          "showTitle": false,
          "title": ""
        },
        "id": "N8ZbA7231n5g"
      },
      "source": [
        "## Evaluate the model\n",
        "Metrics used for evaluation are **Root Mean Square Error(RMSE)** and **Co-efficient of Determination(r2)**. RMSE is measured in the same units as the predicted and actual values - so in this case, the RMSE indicates the average difference in dollars between predicted and actual price values. r2 indicates how close the data are to the fitted regression line. **RegressionEvaluator** class is used to determine **RMSE** and **r2**."
      ]
    },
    {
      "cell_type": "code",
      "execution_count": null,
      "metadata": {
        "application/vnd.databricks.v1+cell": {
          "inputWidgets": {},
          "nuid": "4f130065-a452-499f-96a4-31ec7257f8ce",
          "showTitle": false,
          "title": ""
        },
        "id": "9Tgz_J_61n5h",
        "outputId": "cd88f2bd-f2f4-4702-a738-ddaa3bedffbd"
      },
      "outputs": [
        {
          "name": "stdout",
          "output_type": "stream",
          "text": [
            "Root Mean Square Error (RMSE): 133.67620181664412\n",
            "Co-efficient of Determination (r2) 0.23155365366222647\n"
          ]
        }
      ],
      "source": [
        "# Evaluator to determine rmse\n",
        "evaluator = RegressionEvaluator(labelCol=\"trueLabel\", predictionCol=\"prediction\", metricName=\"rmse\")\n",
        "rmse = evaluator.evaluate(prediction)\n",
        "\n",
        "# Evaluator to determine r2\n",
        "evaluator = RegressionEvaluator(labelCol=\"trueLabel\", predictionCol=\"prediction\", metricName=\"r2\")\n",
        "r2 = evaluator.evaluate(prediction)\n",
        "\n",
        "print (\"Root Mean Square Error (RMSE):\", rmse)\n",
        "print (\"Co-efficient of Determination (r2)\", r2)"
      ]
    },
    {
      "cell_type": "code",
      "execution_count": null,
      "metadata": {
        "id": "C3QlugmZ1n5h"
      },
      "outputs": [],
      "source": [
        "raydp.stop_spark()\n",
        "ray.shutdown()"
      ]
    },
    {
      "cell_type": "markdown",
      "metadata": {
        "id": "pcwm6YsJ1n5h"
      },
      "source": [
        "### Experimental Result:      \n",
        "#### min_workers: 2, max_workers: 3\n",
        "\n",
        "1. Experiment 1: (header: g4dn.2xlarge): num_executors = 1, cores_per_executor = 1\n",
        "\n",
        "|File Size| Loc | workers | no actors |Partition| no_executors| cores/exe| mem/exe| maxDepth| Train (s)| Read| Data Eng| Test rmse | Test r2 |\n",
        "| :---    | :----:  | :----: | :----:   | :----:   | :----:   | :----:   | :----:   | :----:   | :----:   | :----:| :----:| :----:   | ---: |\n",
        "|1.930 GB | local |2- 8  | 3 |   NA | 1| 1| \"2GB\"| 2,3,9 | 135.26 |17.53 | 32.29  | 133.68 | 0.2316 |\n"
      ]
    },
    {
      "cell_type": "code",
      "execution_count": null,
      "metadata": {
        "id": "-IZEKdmI1n5h"
      },
      "outputs": [],
      "source": []
    }
  ],
  "metadata": {
    "application/vnd.databricks.v1+notebook": {
      "dashboards": [],
      "language": "python",
      "notebookMetadata": {
        "pythonIndentUnit": 2
      },
      "notebookName": "Airbnb Price prediction - Gradient Boosted Tree Regression Model",
      "notebookOrigID": 1218005068616027,
      "widgets": {}
    },
    "kernelspec": {
      "display_name": "Python 3",
      "language": "python",
      "name": "python3"
    },
    "language_info": {
      "codemirror_mode": {
        "name": "ipython",
        "version": 3
      },
      "file_extension": ".py",
      "mimetype": "text/x-python",
      "name": "python",
      "nbconvert_exporter": "python",
      "pygments_lexer": "ipython3",
      "version": "3.7.7"
    },
    "colab": {
      "provenance": [],
      "include_colab_link": true
    }
  },
  "nbformat": 4,
  "nbformat_minor": 0
}