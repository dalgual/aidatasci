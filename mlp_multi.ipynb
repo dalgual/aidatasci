{
  "cells": [
    {
      "cell_type": "markdown",
      "metadata": {
        "id": "view-in-github",
        "colab_type": "text"
      },
      "source": [
        "<a href=\"https://colab.research.google.com/github/dalgual/aidatasci/blob/main/mlp_multi.ipynb\" target=\"_parent\"><img src=\"https://colab.research.google.com/assets/colab-badge.svg\" alt=\"Open In Colab\"/></a>"
      ]
    },
    {
      "cell_type": "markdown",
      "metadata": {
        "application/vnd.databricks.v1+cell": {
          "cellMetadata": {
            "byteLimit": 2048000,
            "rowLimit": 10000
          },
          "inputWidgets": {},
          "nuid": "06acfc2d-adf3-41e2-b47a-01129ba87fa9",
          "showTitle": false,
          "title": ""
        },
        "id": "AVdqeZLUa4yG"
      },
      "source": [
        "## Amazon books rating\n"
      ]
    },
    {
      "cell_type": "code",
      "execution_count": null,
      "metadata": {
        "application/vnd.databricks.v1+cell": {
          "cellMetadata": {
            "byteLimit": 2048000,
            "rowLimit": 10000
          },
          "inputWidgets": {},
          "nuid": "b70d1e2b-06a3-46a5-ab4f-6661dcf2f118",
          "showTitle": false,
          "title": ""
        },
        "autoscroll": "auto",
        "id": "ui8PjQxq84DR"
      },
      "outputs": [],
      "source": [
        "%pyspark\n",
        "\n",
        "from pyspark.sql.types import *\n",
        "from pyspark.sql.functions import *\n",
        "\n",
        "from pyspark.ml import Pipeline\n",
        "from pyspark.ml.classification import DecisionTreeClassifier, LogisticRegression, GBTClassifier, RandomForestClassifier, LinearSVC, MultilayerPerceptronClassifier\n",
        "from pyspark.ml.feature import VectorAssembler, StringIndexer, VectorIndexer, MinMaxScaler, CountVectorizer, IDF, Tokenizer, StopWordsRemover, RegexTokenizer, HashingTF, Word2Vec\n",
        "from pyspark.ml.tuning import ParamGridBuilder, TrainValidationSplit, CrossValidator\n",
        "\n",
        "from pyspark.ml.evaluation import BinaryClassificationEvaluator, MulticlassClassificationEvaluator\n",
        "from pyspark.mllib.evaluation import MulticlassMetrics\n",
        "from time import time\n",
        "\n",
        "from pyspark.context import SparkContext\n",
        "from pyspark.sql.session import SparkSession\n",
        "from pyspark.storagelevel import StorageLevel"
      ]
    },
    {
      "cell_type": "markdown",
      "metadata": {
        "application/vnd.databricks.v1+cell": {
          "cellMetadata": {
            "byteLimit": 2048000,
            "rowLimit": 10000
          },
          "inputWidgets": {},
          "nuid": "9fe3c238-5212-4b83-a05e-1b5f6b1d17f3",
          "showTitle": false,
          "title": ""
        },
        "id": "ctMovzXOa4yK"
      },
      "source": [
        "#####Spark Submit setting"
      ]
    },
    {
      "cell_type": "code",
      "execution_count": null,
      "metadata": {
        "application/vnd.databricks.v1+cell": {
          "cellMetadata": {
            "byteLimit": 2048000,
            "rowLimit": 10000
          },
          "inputWidgets": {},
          "nuid": "603ae350-ecb3-461b-8aaa-1438aea2b318",
          "showTitle": false,
          "title": ""
        },
        "id": "WwIntXz8a4yK"
      },
      "outputs": [],
      "source": [
        "%pyspark\n",
        "\n",
        "IS_SPARK_SUBMIT_CLI = True\n",
        "if IS_SPARK_SUBMIT_CLI:\n",
        "    sc = SparkContext.getOrCreate()\n",
        "    spark = SparkSession(sc)"
      ]
    },
    {
      "cell_type": "code",
      "execution_count": null,
      "metadata": {
        "application/vnd.databricks.v1+cell": {
          "cellMetadata": {
            "byteLimit": 2048000,
            "rowLimit": 10000
          },
          "inputWidgets": {},
          "nuid": "69736fe7-7589-4141-bb1b-3b9c526c8064",
          "showTitle": false,
          "title": ""
        },
        "id": "t3BYq9HRa4yK"
      },
      "outputs": [],
      "source": [
        "%pyspark\n",
        "\n",
        "# Limit the log\n",
        "spark.sparkContext.setLogLevel(\"WARN\")"
      ]
    },
    {
      "cell_type": "markdown",
      "metadata": {
        "application/vnd.databricks.v1+cell": {
          "cellMetadata": {
            "byteLimit": 2048000,
            "rowLimit": 10000
          },
          "inputWidgets": {},
          "nuid": "bedaea6b-174a-4cbc-900b-7e387eda8511",
          "showTitle": false,
          "title": ""
        },
        "id": "OXgiVCOSa4yL"
      },
      "source": [
        "#####Read data"
      ]
    },
    {
      "cell_type": "code",
      "execution_count": null,
      "metadata": {
        "application/vnd.databricks.v1+cell": {
          "cellMetadata": {
            "byteLimit": 2048000,
            "rowLimit": 10000
          },
          "inputWidgets": {},
          "nuid": "aae20b6e-258d-4b86-b218-145e5c50b3ce",
          "showTitle": false,
          "title": ""
        },
        "id": "_I03OeUCa4yM",
        "outputId": "9fb5356b-3668-4308-c03e-043d5464ac11"
      },
      "outputs": [
        {
          "output_type": "display_data",
          "data": {
            "text/plain": [
              "\u001b[0;31m---------------------------------------------------------------------------\u001b[0m\n",
              "\u001b[0;31mAnalysisException\u001b[0m                         Traceback (most recent call last)\n",
              "File \u001b[0;32m<command-4280381872412895>:1\u001b[0m\n",
              "\u001b[0;32m----> 1\u001b[0m df \u001b[38;5;241m=\u001b[39m \u001b[43mspark\u001b[49m\u001b[38;5;241;43m.\u001b[39;49m\u001b[43mread\u001b[49m\u001b[38;5;241;43m.\u001b[39;49m\u001b[43mcsv\u001b[49m\u001b[43m(\u001b[49m\u001b[38;5;124;43m'\u001b[39;49m\u001b[38;5;124;43m/user/hlin54/Books_rating.csv\u001b[39;49m\u001b[38;5;124;43m'\u001b[39;49m\u001b[43m,\u001b[49m\u001b[43m \u001b[49m\u001b[43minferSchema\u001b[49m\u001b[38;5;241;43m=\u001b[39;49m\u001b[38;5;28;43;01mTrue\u001b[39;49;00m\u001b[43m,\u001b[49m\u001b[43m \u001b[49m\u001b[43mheader\u001b[49m\u001b[38;5;241;43m=\u001b[39;49m\u001b[38;5;28;43;01mTrue\u001b[39;49;00m\u001b[43m)\u001b[49m\n",
              "\n",
              "File \u001b[0;32m/databricks/spark/python/pyspark/instrumentation_utils.py:48\u001b[0m, in \u001b[0;36m_wrap_function.<locals>.wrapper\u001b[0;34m(*args, **kwargs)\u001b[0m\n",
              "\u001b[1;32m     46\u001b[0m start \u001b[38;5;241m=\u001b[39m time\u001b[38;5;241m.\u001b[39mperf_counter()\n",
              "\u001b[1;32m     47\u001b[0m \u001b[38;5;28;01mtry\u001b[39;00m:\n",
              "\u001b[0;32m---> 48\u001b[0m     res \u001b[38;5;241m=\u001b[39m \u001b[43mfunc\u001b[49m\u001b[43m(\u001b[49m\u001b[38;5;241;43m*\u001b[39;49m\u001b[43margs\u001b[49m\u001b[43m,\u001b[49m\u001b[43m \u001b[49m\u001b[38;5;241;43m*\u001b[39;49m\u001b[38;5;241;43m*\u001b[39;49m\u001b[43mkwargs\u001b[49m\u001b[43m)\u001b[49m\n",
              "\u001b[1;32m     49\u001b[0m     logger\u001b[38;5;241m.\u001b[39mlog_success(\n",
              "\u001b[1;32m     50\u001b[0m         module_name, class_name, function_name, time\u001b[38;5;241m.\u001b[39mperf_counter() \u001b[38;5;241m-\u001b[39m start, signature\n",
              "\u001b[1;32m     51\u001b[0m     )\n",
              "\u001b[1;32m     52\u001b[0m     \u001b[38;5;28;01mreturn\u001b[39;00m res\n",
              "\n",
              "File \u001b[0;32m/databricks/spark/python/pyspark/sql/readwriter.py:729\u001b[0m, in \u001b[0;36mDataFrameReader.csv\u001b[0;34m(self, path, schema, sep, encoding, quote, escape, comment, header, inferSchema, ignoreLeadingWhiteSpace, ignoreTrailingWhiteSpace, nullValue, nanValue, positiveInf, negativeInf, dateFormat, timestampFormat, maxColumns, maxCharsPerColumn, maxMalformedLogPerPartition, mode, columnNameOfCorruptRecord, multiLine, charToEscapeQuoteEscaping, samplingRatio, enforceSchema, emptyValue, locale, lineSep, pathGlobFilter, recursiveFileLookup, modifiedBefore, modifiedAfter, unescapedQuoteHandling)\u001b[0m\n",
              "\u001b[1;32m    727\u001b[0m \u001b[38;5;28;01mif\u001b[39;00m \u001b[38;5;28mtype\u001b[39m(path) \u001b[38;5;241m==\u001b[39m \u001b[38;5;28mlist\u001b[39m:\n",
              "\u001b[1;32m    728\u001b[0m     \u001b[38;5;28;01massert\u001b[39;00m \u001b[38;5;28mself\u001b[39m\u001b[38;5;241m.\u001b[39m_spark\u001b[38;5;241m.\u001b[39m_sc\u001b[38;5;241m.\u001b[39m_jvm \u001b[38;5;129;01mis\u001b[39;00m \u001b[38;5;129;01mnot\u001b[39;00m \u001b[38;5;28;01mNone\u001b[39;00m\n",
              "\u001b[0;32m--> 729\u001b[0m     \u001b[38;5;28;01mreturn\u001b[39;00m \u001b[38;5;28mself\u001b[39m\u001b[38;5;241m.\u001b[39m_df(\u001b[38;5;28;43mself\u001b[39;49m\u001b[38;5;241;43m.\u001b[39;49m\u001b[43m_jreader\u001b[49m\u001b[38;5;241;43m.\u001b[39;49m\u001b[43mcsv\u001b[49m\u001b[43m(\u001b[49m\u001b[38;5;28;43mself\u001b[39;49m\u001b[38;5;241;43m.\u001b[39;49m\u001b[43m_spark\u001b[49m\u001b[38;5;241;43m.\u001b[39;49m\u001b[43m_sc\u001b[49m\u001b[38;5;241;43m.\u001b[39;49m\u001b[43m_jvm\u001b[49m\u001b[38;5;241;43m.\u001b[39;49m\u001b[43mPythonUtils\u001b[49m\u001b[38;5;241;43m.\u001b[39;49m\u001b[43mtoSeq\u001b[49m\u001b[43m(\u001b[49m\u001b[43mpath\u001b[49m\u001b[43m)\u001b[49m\u001b[43m)\u001b[49m)\n",
              "\u001b[1;32m    730\u001b[0m \u001b[38;5;28;01melif\u001b[39;00m \u001b[38;5;28misinstance\u001b[39m(path, RDD):\n",
              "\u001b[1;32m    732\u001b[0m     \u001b[38;5;28;01mdef\u001b[39;00m \u001b[38;5;21mfunc\u001b[39m(iterator):\n",
              "\n",
              "File \u001b[0;32m/databricks/spark/python/lib/py4j-0.10.9.5-src.zip/py4j/java_gateway.py:1321\u001b[0m, in \u001b[0;36mJavaMember.__call__\u001b[0;34m(self, *args)\u001b[0m\n",
              "\u001b[1;32m   1315\u001b[0m command \u001b[38;5;241m=\u001b[39m proto\u001b[38;5;241m.\u001b[39mCALL_COMMAND_NAME \u001b[38;5;241m+\u001b[39m\\\n",
              "\u001b[1;32m   1316\u001b[0m     \u001b[38;5;28mself\u001b[39m\u001b[38;5;241m.\u001b[39mcommand_header \u001b[38;5;241m+\u001b[39m\\\n",
              "\u001b[1;32m   1317\u001b[0m     args_command \u001b[38;5;241m+\u001b[39m\\\n",
              "\u001b[1;32m   1318\u001b[0m     proto\u001b[38;5;241m.\u001b[39mEND_COMMAND_PART\n",
              "\u001b[1;32m   1320\u001b[0m answer \u001b[38;5;241m=\u001b[39m \u001b[38;5;28mself\u001b[39m\u001b[38;5;241m.\u001b[39mgateway_client\u001b[38;5;241m.\u001b[39msend_command(command)\n",
              "\u001b[0;32m-> 1321\u001b[0m return_value \u001b[38;5;241m=\u001b[39m \u001b[43mget_return_value\u001b[49m\u001b[43m(\u001b[49m\n",
              "\u001b[1;32m   1322\u001b[0m \u001b[43m    \u001b[49m\u001b[43manswer\u001b[49m\u001b[43m,\u001b[49m\u001b[43m \u001b[49m\u001b[38;5;28;43mself\u001b[39;49m\u001b[38;5;241;43m.\u001b[39;49m\u001b[43mgateway_client\u001b[49m\u001b[43m,\u001b[49m\u001b[43m \u001b[49m\u001b[38;5;28;43mself\u001b[39;49m\u001b[38;5;241;43m.\u001b[39;49m\u001b[43mtarget_id\u001b[49m\u001b[43m,\u001b[49m\u001b[43m \u001b[49m\u001b[38;5;28;43mself\u001b[39;49m\u001b[38;5;241;43m.\u001b[39;49m\u001b[43mname\u001b[49m\u001b[43m)\u001b[49m\n",
              "\u001b[1;32m   1324\u001b[0m \u001b[38;5;28;01mfor\u001b[39;00m temp_arg \u001b[38;5;129;01min\u001b[39;00m temp_args:\n",
              "\u001b[1;32m   1325\u001b[0m     temp_arg\u001b[38;5;241m.\u001b[39m_detach()\n",
              "\n",
              "File \u001b[0;32m/databricks/spark/python/pyspark/errors/exceptions.py:234\u001b[0m, in \u001b[0;36mcapture_sql_exception.<locals>.deco\u001b[0;34m(*a, **kw)\u001b[0m\n",
              "\u001b[1;32m    230\u001b[0m converted \u001b[38;5;241m=\u001b[39m convert_exception(e\u001b[38;5;241m.\u001b[39mjava_exception)\n",
              "\u001b[1;32m    231\u001b[0m \u001b[38;5;28;01mif\u001b[39;00m \u001b[38;5;129;01mnot\u001b[39;00m \u001b[38;5;28misinstance\u001b[39m(converted, UnknownException):\n",
              "\u001b[1;32m    232\u001b[0m     \u001b[38;5;66;03m# Hide where the exception came from that shows a non-Pythonic\u001b[39;00m\n",
              "\u001b[1;32m    233\u001b[0m     \u001b[38;5;66;03m# JVM exception message.\u001b[39;00m\n",
              "\u001b[0;32m--> 234\u001b[0m     \u001b[38;5;28;01mraise\u001b[39;00m converted \u001b[38;5;28;01mfrom\u001b[39;00m \u001b[38;5;28mNone\u001b[39m\n",
              "\u001b[1;32m    235\u001b[0m \u001b[38;5;28;01melse\u001b[39;00m:\n",
              "\u001b[1;32m    236\u001b[0m     \u001b[38;5;28;01mraise\u001b[39;00m\n",
              "\n",
              "\u001b[0;31mAnalysisException\u001b[0m: [PATH_NOT_FOUND] Path does not exist: dbfs:/user/hlin54/Books_rating.csv."
            ]
          },
          "metadata": {
            "application/vnd.databricks.v1+output": {
              "arguments": {},
              "data": "\u001b[0;31m---------------------------------------------------------------------------\u001b[0m\n\u001b[0;31mAnalysisException\u001b[0m                         Traceback (most recent call last)\nFile \u001b[0;32m<command-4280381872412895>:1\u001b[0m\n\u001b[0;32m----> 1\u001b[0m df \u001b[38;5;241m=\u001b[39m \u001b[43mspark\u001b[49m\u001b[38;5;241;43m.\u001b[39;49m\u001b[43mread\u001b[49m\u001b[38;5;241;43m.\u001b[39;49m\u001b[43mcsv\u001b[49m\u001b[43m(\u001b[49m\u001b[38;5;124;43m'\u001b[39;49m\u001b[38;5;124;43m/user/hlin54/Books_rating.csv\u001b[39;49m\u001b[38;5;124;43m'\u001b[39;49m\u001b[43m,\u001b[49m\u001b[43m \u001b[49m\u001b[43minferSchema\u001b[49m\u001b[38;5;241;43m=\u001b[39;49m\u001b[38;5;28;43;01mTrue\u001b[39;49;00m\u001b[43m,\u001b[49m\u001b[43m \u001b[49m\u001b[43mheader\u001b[49m\u001b[38;5;241;43m=\u001b[39;49m\u001b[38;5;28;43;01mTrue\u001b[39;49;00m\u001b[43m)\u001b[49m\n\nFile \u001b[0;32m/databricks/spark/python/pyspark/instrumentation_utils.py:48\u001b[0m, in \u001b[0;36m_wrap_function.<locals>.wrapper\u001b[0;34m(*args, **kwargs)\u001b[0m\n\u001b[1;32m     46\u001b[0m start \u001b[38;5;241m=\u001b[39m time\u001b[38;5;241m.\u001b[39mperf_counter()\n\u001b[1;32m     47\u001b[0m \u001b[38;5;28;01mtry\u001b[39;00m:\n\u001b[0;32m---> 48\u001b[0m     res \u001b[38;5;241m=\u001b[39m \u001b[43mfunc\u001b[49m\u001b[43m(\u001b[49m\u001b[38;5;241;43m*\u001b[39;49m\u001b[43margs\u001b[49m\u001b[43m,\u001b[49m\u001b[43m \u001b[49m\u001b[38;5;241;43m*\u001b[39;49m\u001b[38;5;241;43m*\u001b[39;49m\u001b[43mkwargs\u001b[49m\u001b[43m)\u001b[49m\n\u001b[1;32m     49\u001b[0m     logger\u001b[38;5;241m.\u001b[39mlog_success(\n\u001b[1;32m     50\u001b[0m         module_name, class_name, function_name, time\u001b[38;5;241m.\u001b[39mperf_counter() \u001b[38;5;241m-\u001b[39m start, signature\n\u001b[1;32m     51\u001b[0m     )\n\u001b[1;32m     52\u001b[0m     \u001b[38;5;28;01mreturn\u001b[39;00m res\n\nFile \u001b[0;32m/databricks/spark/python/pyspark/sql/readwriter.py:729\u001b[0m, in \u001b[0;36mDataFrameReader.csv\u001b[0;34m(self, path, schema, sep, encoding, quote, escape, comment, header, inferSchema, ignoreLeadingWhiteSpace, ignoreTrailingWhiteSpace, nullValue, nanValue, positiveInf, negativeInf, dateFormat, timestampFormat, maxColumns, maxCharsPerColumn, maxMalformedLogPerPartition, mode, columnNameOfCorruptRecord, multiLine, charToEscapeQuoteEscaping, samplingRatio, enforceSchema, emptyValue, locale, lineSep, pathGlobFilter, recursiveFileLookup, modifiedBefore, modifiedAfter, unescapedQuoteHandling)\u001b[0m\n\u001b[1;32m    727\u001b[0m \u001b[38;5;28;01mif\u001b[39;00m \u001b[38;5;28mtype\u001b[39m(path) \u001b[38;5;241m==\u001b[39m \u001b[38;5;28mlist\u001b[39m:\n\u001b[1;32m    728\u001b[0m     \u001b[38;5;28;01massert\u001b[39;00m \u001b[38;5;28mself\u001b[39m\u001b[38;5;241m.\u001b[39m_spark\u001b[38;5;241m.\u001b[39m_sc\u001b[38;5;241m.\u001b[39m_jvm \u001b[38;5;129;01mis\u001b[39;00m \u001b[38;5;129;01mnot\u001b[39;00m \u001b[38;5;28;01mNone\u001b[39;00m\n\u001b[0;32m--> 729\u001b[0m     \u001b[38;5;28;01mreturn\u001b[39;00m \u001b[38;5;28mself\u001b[39m\u001b[38;5;241m.\u001b[39m_df(\u001b[38;5;28;43mself\u001b[39;49m\u001b[38;5;241;43m.\u001b[39;49m\u001b[43m_jreader\u001b[49m\u001b[38;5;241;43m.\u001b[39;49m\u001b[43mcsv\u001b[49m\u001b[43m(\u001b[49m\u001b[38;5;28;43mself\u001b[39;49m\u001b[38;5;241;43m.\u001b[39;49m\u001b[43m_spark\u001b[49m\u001b[38;5;241;43m.\u001b[39;49m\u001b[43m_sc\u001b[49m\u001b[38;5;241;43m.\u001b[39;49m\u001b[43m_jvm\u001b[49m\u001b[38;5;241;43m.\u001b[39;49m\u001b[43mPythonUtils\u001b[49m\u001b[38;5;241;43m.\u001b[39;49m\u001b[43mtoSeq\u001b[49m\u001b[43m(\u001b[49m\u001b[43mpath\u001b[49m\u001b[43m)\u001b[49m\u001b[43m)\u001b[49m)\n\u001b[1;32m    730\u001b[0m \u001b[38;5;28;01melif\u001b[39;00m \u001b[38;5;28misinstance\u001b[39m(path, RDD):\n\u001b[1;32m    732\u001b[0m     \u001b[38;5;28;01mdef\u001b[39;00m \u001b[38;5;21mfunc\u001b[39m(iterator):\n\nFile \u001b[0;32m/databricks/spark/python/lib/py4j-0.10.9.5-src.zip/py4j/java_gateway.py:1321\u001b[0m, in \u001b[0;36mJavaMember.__call__\u001b[0;34m(self, *args)\u001b[0m\n\u001b[1;32m   1315\u001b[0m command \u001b[38;5;241m=\u001b[39m proto\u001b[38;5;241m.\u001b[39mCALL_COMMAND_NAME \u001b[38;5;241m+\u001b[39m\\\n\u001b[1;32m   1316\u001b[0m     \u001b[38;5;28mself\u001b[39m\u001b[38;5;241m.\u001b[39mcommand_header \u001b[38;5;241m+\u001b[39m\\\n\u001b[1;32m   1317\u001b[0m     args_command \u001b[38;5;241m+\u001b[39m\\\n\u001b[1;32m   1318\u001b[0m     proto\u001b[38;5;241m.\u001b[39mEND_COMMAND_PART\n\u001b[1;32m   1320\u001b[0m answer \u001b[38;5;241m=\u001b[39m \u001b[38;5;28mself\u001b[39m\u001b[38;5;241m.\u001b[39mgateway_client\u001b[38;5;241m.\u001b[39msend_command(command)\n\u001b[0;32m-> 1321\u001b[0m return_value \u001b[38;5;241m=\u001b[39m \u001b[43mget_return_value\u001b[49m\u001b[43m(\u001b[49m\n\u001b[1;32m   1322\u001b[0m \u001b[43m    \u001b[49m\u001b[43manswer\u001b[49m\u001b[43m,\u001b[49m\u001b[43m \u001b[49m\u001b[38;5;28;43mself\u001b[39;49m\u001b[38;5;241;43m.\u001b[39;49m\u001b[43mgateway_client\u001b[49m\u001b[43m,\u001b[49m\u001b[43m \u001b[49m\u001b[38;5;28;43mself\u001b[39;49m\u001b[38;5;241;43m.\u001b[39;49m\u001b[43mtarget_id\u001b[49m\u001b[43m,\u001b[49m\u001b[43m \u001b[49m\u001b[38;5;28;43mself\u001b[39;49m\u001b[38;5;241;43m.\u001b[39;49m\u001b[43mname\u001b[49m\u001b[43m)\u001b[49m\n\u001b[1;32m   1324\u001b[0m \u001b[38;5;28;01mfor\u001b[39;00m temp_arg \u001b[38;5;129;01min\u001b[39;00m temp_args:\n\u001b[1;32m   1325\u001b[0m     temp_arg\u001b[38;5;241m.\u001b[39m_detach()\n\nFile \u001b[0;32m/databricks/spark/python/pyspark/errors/exceptions.py:234\u001b[0m, in \u001b[0;36mcapture_sql_exception.<locals>.deco\u001b[0;34m(*a, **kw)\u001b[0m\n\u001b[1;32m    230\u001b[0m converted \u001b[38;5;241m=\u001b[39m convert_exception(e\u001b[38;5;241m.\u001b[39mjava_exception)\n\u001b[1;32m    231\u001b[0m \u001b[38;5;28;01mif\u001b[39;00m \u001b[38;5;129;01mnot\u001b[39;00m \u001b[38;5;28misinstance\u001b[39m(converted, UnknownException):\n\u001b[1;32m    232\u001b[0m     \u001b[38;5;66;03m# Hide where the exception came from that shows a non-Pythonic\u001b[39;00m\n\u001b[1;32m    233\u001b[0m     \u001b[38;5;66;03m# JVM exception message.\u001b[39;00m\n\u001b[0;32m--> 234\u001b[0m     \u001b[38;5;28;01mraise\u001b[39;00m converted \u001b[38;5;28;01mfrom\u001b[39;00m \u001b[38;5;28mNone\u001b[39m\n\u001b[1;32m    235\u001b[0m \u001b[38;5;28;01melse\u001b[39;00m:\n\u001b[1;32m    236\u001b[0m     \u001b[38;5;28;01mraise\u001b[39;00m\n\n\u001b[0;31mAnalysisException\u001b[0m: [PATH_NOT_FOUND] Path does not exist: dbfs:/user/hlin54/Books_rating.csv.",
              "errorSummary": "<span class='ansi-red-fg'>AnalysisException</span>: [PATH_NOT_FOUND] Path does not exist: dbfs:/user/hlin54/Books_rating.csv.",
              "errorTraceType": "ansi",
              "metadata": {},
              "type": "ipynbError"
            }
          }
        }
      ],
      "source": [
        "%pyspark\n",
        "\n",
        "df = spark.read.csv('/user/hlin54/Books_rating.csv', inferSchema=True, header=True)"
      ]
    },
    {
      "cell_type": "code",
      "execution_count": null,
      "metadata": {
        "application/vnd.databricks.v1+cell": {
          "cellMetadata": {
            "byteLimit": 2048000,
            "rowLimit": 10000
          },
          "inputWidgets": {},
          "nuid": "61960ea3-8d85-419e-b895-bed86b50b691",
          "showTitle": false,
          "title": ""
        },
        "autoscroll": "auto",
        "id": "a0GEJ9_v84DS"
      },
      "outputs": [],
      "source": [
        "%pyspark\n",
        "\n",
        "booksSchema = StructType([\n",
        "  StructField(\"Id\", IntegerType(), False),\n",
        "  StructField(\"Title\", StringType(), False),\n",
        "  StructField(\"Price\", FloatType(), False),\n",
        "  StructField(\"User_id\", StringType(), False),\n",
        "  StructField(\"profileName\", StringType(), False),\n",
        "  StructField(\"review/helpfulness\", StringType(), False),\n",
        "  StructField(\"review/score\", IntegerType(), False),\n",
        "  StructField(\"review/time\", IntegerType(), False),\n",
        "  StructField(\"review/summary\", StringType(), False),\n",
        "  StructField(\"review/text\", StringType(), False),\n",
        "])"
      ]
    },
    {
      "cell_type": "code",
      "execution_count": null,
      "metadata": {
        "application/vnd.databricks.v1+cell": {
          "cellMetadata": {
            "byteLimit": 2048000,
            "rowLimit": 10000
          },
          "inputWidgets": {},
          "nuid": "2dca121b-5e78-4312-a2f2-9912bad7d572",
          "showTitle": false,
          "title": ""
        },
        "autoscroll": "auto",
        "id": "iF45U2tM84DT",
        "outputId": "957f6212-5b96-4e9d-c74a-c12cbabf92ce"
      },
      "outputs": [
        {
          "output_type": "stream",
          "name": "stdout",
          "text": [
            "data count: 10000\n"
          ]
        }
      ],
      "source": [
        "%pyspark\n",
        "\n",
        "print('data count:', df.count())"
      ]
    },
    {
      "cell_type": "markdown",
      "metadata": {
        "application/vnd.databricks.v1+cell": {
          "cellMetadata": {
            "byteLimit": 2048000,
            "rowLimit": 10000
          },
          "inputWidgets": {},
          "nuid": "2a100424-5a5e-43a3-b017-4d7fc355e0ff",
          "showTitle": false,
          "title": ""
        },
        "id": "Bprnwsbma4yM"
      },
      "source": [
        "#####Select the column we need (for multiclass classification)"
      ]
    },
    {
      "cell_type": "code",
      "execution_count": null,
      "metadata": {
        "application/vnd.databricks.v1+cell": {
          "cellMetadata": {
            "byteLimit": 2048000,
            "rowLimit": 10000
          },
          "inputWidgets": {},
          "nuid": "387b5035-8038-443d-94f4-d806fa645586",
          "showTitle": false,
          "title": ""
        },
        "autoscroll": "auto",
        "id": "C-NLupIw84DT"
      },
      "outputs": [],
      "source": [
        "%pyspark\n",
        "\n",
        "df_new = df.select(((col(\"Price\")).cast(\"Float\")), \"review/summary\", ((col(\"review/time\")).cast(\"Float\")), ((col(\"review/score\").cast(\"Int\")).alias(\"score\")))"
      ]
    },
    {
      "cell_type": "markdown",
      "metadata": {
        "application/vnd.databricks.v1+cell": {
          "cellMetadata": {
            "byteLimit": 2048000,
            "rowLimit": 10000
          },
          "inputWidgets": {},
          "nuid": "799e7231-8b16-49a5-9c76-5c29898f35ca",
          "showTitle": false,
          "title": ""
        },
        "id": "MQdg08WDa4yM"
      },
      "source": [
        "#####Remove weird values for our label column"
      ]
    },
    {
      "cell_type": "code",
      "execution_count": null,
      "metadata": {
        "application/vnd.databricks.v1+cell": {
          "cellMetadata": {
            "byteLimit": 2048000,
            "rowLimit": 10000
          },
          "inputWidgets": {},
          "nuid": "43091362-ed54-4bb2-b262-2c41cad342cb",
          "showTitle": false,
          "title": ""
        },
        "id": "E9lIVsIza4yN"
      },
      "outputs": [],
      "source": [
        "%pyspark\n",
        "\n",
        "df_new = df_new.filter(col(\"score\") <= 5)"
      ]
    },
    {
      "cell_type": "markdown",
      "metadata": {
        "application/vnd.databricks.v1+cell": {
          "cellMetadata": {
            "byteLimit": 2048000,
            "rowLimit": 10000
          },
          "inputWidgets": {},
          "nuid": "e7e20b96-6856-4727-aea9-fc411568b6e3",
          "showTitle": false,
          "title": ""
        },
        "id": "N_8IPVMPa4yN"
      },
      "source": [
        "#####Replace average values to missing values(column : Price, review/time)"
      ]
    },
    {
      "cell_type": "code",
      "execution_count": null,
      "metadata": {
        "application/vnd.databricks.v1+cell": {
          "cellMetadata": {
            "byteLimit": 2048000,
            "rowLimit": 10000
          },
          "inputWidgets": {},
          "nuid": "6ef49b2d-79e6-4d9d-a5d6-caa7622a7d5d",
          "showTitle": false,
          "title": ""
        },
        "autoscroll": "auto",
        "id": "tfwGu5dE84DT"
      },
      "outputs": [],
      "source": [
        "%pyspark\n",
        "\n",
        "price_avg = df_new.agg({'Price': 'mean'}).collect()[0][0]\n",
        "df_new = df_new.fillna(price_avg, subset = [\"Price\"])\n",
        "\n",
        "time_avg = df_new.agg({'review/time': 'mean'}).collect()[0][0]\n",
        "df_new = df_new.fillna(time_avg, subset = [\"review/time\"])\n"
      ]
    },
    {
      "cell_type": "markdown",
      "metadata": {
        "application/vnd.databricks.v1+cell": {
          "cellMetadata": {
            "byteLimit": 2048000,
            "rowLimit": 10000
          },
          "inputWidgets": {},
          "nuid": "67dcda1e-f8d8-4919-98ad-2fd318902b51",
          "showTitle": false,
          "title": ""
        },
        "id": "bh43N5EKa4yN"
      },
      "source": [
        "#####Drop NA values"
      ]
    },
    {
      "cell_type": "code",
      "execution_count": null,
      "metadata": {
        "application/vnd.databricks.v1+cell": {
          "cellMetadata": {
            "byteLimit": 2048000,
            "rowLimit": 10000
          },
          "inputWidgets": {},
          "nuid": "0dadba33-5c25-4e1d-b973-9047b766245a",
          "showTitle": false,
          "title": ""
        },
        "id": "t7gjuFSWa4yN",
        "outputId": "50164454-cee8-427e-b1f9-9931b2f94b18"
      },
      "outputs": [
        {
          "output_type": "stream",
          "name": "stdout",
          "text": [
            "+----------------------------------------------------------+\n|review/summary                                            |\n+----------------------------------------------------------+\n|nice collection of julie strain images                    |\n|really enjoyed it                                         |\n|essential for every personal and public library           |\n|phlip nel gives silly seuss a serious treatment           |\n|good academic overview                                    |\n|one of americas greatest creative talents                 |\n|a memorably excellent survey of dr seuss many achievements|\n|academia at its best                                      |\n|and to think that i read it on the tram                   |\n|fascinating account of a genius at work                   |\n+----------------------------------------------------------+\nonly showing top 10 rows\n\n"
          ]
        }
      ],
      "source": [
        "%pyspark\n",
        "\n",
        "df_new = df_new.withColumn(\"review/summary\",translate(col(\"review/summary\"), \"/\", \" \")) \\\n",
        "       .withColumn(\"review/summary\",translate(col(\"review/summary\"), \"(\", \" \")) \\\n",
        "       .withColumn(\"review/summary\",translate(col(\"review/summary\"), \")\", \" \"))\n",
        "\n",
        "df_new = df_new.withColumn(\"review/summary\",regexp_replace(col('review/summary'), '[^A-Za-z ]+', ''))\n",
        "df_new = df_new.withColumn(\"review/summary\",regexp_replace(col('review/summary'), ' +', ' '))\n",
        "df_new = df_new.withColumn(\"review/summary\",lower(col('review/summary')))\n",
        "\n",
        "df_new.select(\"review/summary\").show(10,False)"
      ]
    },
    {
      "cell_type": "code",
      "execution_count": null,
      "metadata": {
        "application/vnd.databricks.v1+cell": {
          "cellMetadata": {
            "byteLimit": 2048000,
            "rowLimit": 10000
          },
          "inputWidgets": {},
          "nuid": "ca6819a5-eefc-494f-8662-2b705dd00b23",
          "showTitle": false,
          "title": ""
        },
        "autoscroll": "auto",
        "id": "P0WF3rW384DT"
      },
      "outputs": [],
      "source": [
        "%pyspark\n",
        "\n",
        "df_new = df_new.na.replace(\"nan\", None)\n",
        "df_new = df_new.dropna()"
      ]
    },
    {
      "cell_type": "code",
      "source": [
        "df_new.persist(StorageLevel.DISK_ONLY_2)"
      ],
      "metadata": {
        "id": "nN7WaV1oFR7o"
      },
      "execution_count": null,
      "outputs": []
    },
    {
      "cell_type": "markdown",
      "metadata": {
        "application/vnd.databricks.v1+cell": {
          "cellMetadata": {
            "byteLimit": 2048000,
            "rowLimit": 10000
          },
          "inputWidgets": {},
          "nuid": "42a2da73-4769-4938-b363-65b613d7b3b5",
          "showTitle": false,
          "title": ""
        },
        "id": "dFcLqvoNa4yN"
      },
      "source": [
        "#####Check the label column do not contain weird values"
      ]
    },
    {
      "cell_type": "code",
      "execution_count": null,
      "metadata": {
        "application/vnd.databricks.v1+cell": {
          "cellMetadata": {
            "byteLimit": 2048000,
            "rowLimit": 10000
          },
          "inputWidgets": {},
          "nuid": "9c059fad-b162-4554-b0fc-b8f24ca5b84b",
          "showTitle": false,
          "title": ""
        },
        "id": "RTM4cZC1a4yN",
        "outputId": "f03080fe-153c-460f-9e08-7779a7374c15"
      },
      "outputs": [
        {
          "output_type": "stream",
          "name": "stdout",
          "text": [
            "unique score\n+-----+\n|score|\n+-----+\n|    1|\n|    3|\n|    5|\n|    4|\n|    2|\n+-----+\n\n"
          ]
        }
      ],
      "source": [
        "%pyspark\n",
        "\n",
        "unique_names = df_new.select(\"score\").distinct()\n",
        "print(\"unique score\")\n",
        "unique_names.show()"
      ]
    },
    {
      "cell_type": "code",
      "execution_count": null,
      "metadata": {
        "application/vnd.databricks.v1+cell": {
          "cellMetadata": {
            "byteLimit": 2048000,
            "rowLimit": 10000
          },
          "inputWidgets": {},
          "nuid": "885895ae-ea15-43aa-b416-1192dc79cc93",
          "showTitle": false,
          "title": ""
        },
        "id": "r87XTPtsa4yN",
        "outputId": "7ad9913a-ee8d-4289-a30b-135972c88249"
      },
      "outputs": [
        {
          "output_type": "stream",
          "name": "stdout",
          "text": [
            "+---------+--------------------+-----------+-----+\n|    Price|      review/summary|review/time|score|\n+---------+--------------------+-----------+-----+\n|19.570179|nice collection o...| 9.406368E8|    4|\n|19.570179|   really enjoyed it|1.0957248E9|    5|\n|19.570179|essential for eve...|1.0787904E9|    5|\n|19.570179|phlip nel gives s...|1.0907136E9|    4|\n|19.570179|good academic ove...|1.1079936E9|    4|\n|19.570179|one of americas g...|1.1271744E9|    4|\n|19.570179|a memorably excel...|1.1001312E9|    5|\n|19.570179|academia at its best|   1.2312E9|    5|\n|19.570179|and to think that...|1.2098592E9|    5|\n|19.570179|fascinating accou...|1.0763712E9|    4|\n|     19.4|outstanding resou...|   9.9144E8|    5|\n|     19.4|small churches ca...|1.2917664E9|    5|\n|     19.4|not just for pastors|1.2483072E9|    5|\n|     19.4|small church past...|  1.22256E9|    5|\n|    10.95|            not good|1.1170656E9|    1|\n|    10.95|  here is my opinion|1.1195712E9|    4|\n|    10.95|        buyer beware|1.1192256E9|    1|\n|    10.95|  fall on your knees|1.1159424E9|    5|\n|    10.95|      bravo veronica|1.1170656E9|    5|\n|    10.95|           wonderful|1.1300256E9|    5|\n+---------+--------------------+-----------+-----+\nonly showing top 20 rows\n\n"
          ]
        }
      ],
      "source": [
        "%pyspark\n",
        "\n",
        "df_new.show(20)"
      ]
    },
    {
      "cell_type": "markdown",
      "metadata": {
        "application/vnd.databricks.v1+cell": {
          "cellMetadata": {
            "byteLimit": 2048000,
            "rowLimit": 10000
          },
          "inputWidgets": {},
          "nuid": "9811c895-bda7-495b-9141-2641220cd7f6",
          "showTitle": false,
          "title": ""
        },
        "id": "vDkqbdlaa4yO"
      },
      "source": [
        "#####Check the data do not contain missing values"
      ]
    },
    {
      "cell_type": "code",
      "execution_count": null,
      "metadata": {
        "application/vnd.databricks.v1+cell": {
          "cellMetadata": {
            "byteLimit": 2048000,
            "rowLimit": 10000
          },
          "inputWidgets": {},
          "nuid": "8ce59a95-eaa4-4b20-afec-88f89ed538dd",
          "showTitle": false,
          "title": ""
        },
        "autoscroll": "auto",
        "id": "8Jt8U_mx84DU",
        "outputId": "58ee4e06-cb0c-4f0d-a646-3c462bb798c1"
      },
      "outputs": [
        {
          "output_type": "stream",
          "name": "stdout",
          "text": [
            "+-----+--------------+-----------+-----+\n|Price|review/summary|review/time|score|\n+-----+--------------+-----------+-----+\n|    0|             0|          0|    0|\n+-----+--------------+-----------+-----+\n\n"
          ]
        }
      ],
      "source": [
        "%pyspark\n",
        "\n",
        "df_new.select([count(when(isnull(c), c)).alias(c) for c in df_new.columns]).show()"
      ]
    },
    {
      "cell_type": "code",
      "execution_count": null,
      "metadata": {
        "application/vnd.databricks.v1+cell": {
          "cellMetadata": {
            "byteLimit": 2048000,
            "rowLimit": 10000
          },
          "inputWidgets": {},
          "nuid": "016835ce-cdd5-4f2a-bddb-fc96b86a6e5e",
          "showTitle": false,
          "title": ""
        },
        "id": "0E_hs1Dka4yO",
        "outputId": "2aa0a5cf-9f6a-4fc3-eab1-bb8e780dff43"
      },
      "outputs": [
        {
          "output_type": "stream",
          "name": "stdout",
          "text": [
            "1: 726 0.0730161922960877\n2: 569 0.05722618927888967\n3: 864 0.08689530322840189\n4: 2049 0.2060746253645781\n5: 5735 0.5767876898320426\n"
          ]
        }
      ],
      "source": [
        "%pyspark\n",
        "\n",
        "print(\"1:\", df_new.filter(df_new[\"score\"] == 1).count(), df_new.filter(df_new[\"score\"] == 1).count()/df_new.count())\n",
        "print(\"2:\", df_new.filter(df_new[\"score\"] == 2).count(), df_new.filter(df_new[\"score\"] == 2).count()/df_new.count())\n",
        "print(\"3:\", df_new.filter(df_new[\"score\"] == 3).count(), df_new.filter(df_new[\"score\"] == 3).count()/df_new.count())\n",
        "print(\"4:\", df_new.filter(df_new[\"score\"] == 4).count(), df_new.filter(df_new[\"score\"] == 4).count()/df_new.count())\n",
        "print(\"5:\", df_new.filter(df_new[\"score\"] == 5).count(), df_new.filter(df_new[\"score\"] == 5).count()/df_new.count())"
      ]
    },
    {
      "cell_type": "markdown",
      "metadata": {
        "application/vnd.databricks.v1+cell": {
          "cellMetadata": {
            "byteLimit": 2048000,
            "rowLimit": 10000
          },
          "inputWidgets": {},
          "nuid": "761236ae-38ad-49d1-8e6c-fc6ce4c8ea20",
          "showTitle": false,
          "title": ""
        },
        "id": "zguqWC8Oa4yO"
      },
      "source": [
        "###Follow Medium"
      ]
    },
    {
      "cell_type": "code",
      "execution_count": null,
      "metadata": {
        "application/vnd.databricks.v1+cell": {
          "cellMetadata": {
            "byteLimit": 2048000,
            "rowLimit": 10000
          },
          "inputWidgets": {},
          "nuid": "8d5b0f79-f245-4c6b-9c4d-45193b973723",
          "showTitle": false,
          "title": ""
        },
        "id": "x0LbYVNAa4yO",
        "outputId": "86bd9d4b-6c29-4252-c891-ff71d8a80695"
      },
      "outputs": [
        {
          "output_type": "stream",
          "name": "stdout",
          "text": [
            "+---------+--------------------------------------+-----------+-----+--------------------------------+----------------------------------------+\n|Price    |review/summary                        |review/time|score|numVec                          |normVec                                 |\n+---------+--------------------------------------+-----------+-----+--------------------------------+----------------------------------------+\n|19.570179|nice collection of julie strain images|9.406368E8 |4    |[19.570178985595703,9.406368E8] |[0.08098151160973638,0.2415293751942804]|\n|19.570179|really enjoyed it                     |1.0957248E9|5    |[19.570178985595703,1.0957248E9]|[0.08098151160973638,0.5205160087037612]|\n+---------+--------------------------------------+-----------+-----+--------------------------------+----------------------------------------+\nonly showing top 2 rows\n\n"
          ]
        }
      ],
      "source": [
        "%pyspark\n",
        "\n",
        "vec_assembler = VectorAssembler(inputCols=[\"Price\", \"review/time\"], outputCol=\"numVec\")\n",
        "df_numvector = vec_assembler.transform(df_new)\n",
        "\n",
        "minmax_price = MinMaxScaler(inputCol=\"numVec\", outputCol=\"normVec\")\n",
        "model_num = minmax_price.fit(df_numvector)\n",
        "normVec = model_num.transform(df_numvector)\n",
        "\n",
        "#normVec.show(2,False)"
      ]
    },
    {
      "cell_type": "code",
      "execution_count": null,
      "metadata": {
        "application/vnd.databricks.v1+cell": {
          "cellMetadata": {
            "byteLimit": 2048000,
            "rowLimit": 10000
          },
          "inputWidgets": {},
          "nuid": "dff1ea1d-dfa4-4d2c-8d91-f9d4fd0ad1f4",
          "showTitle": false,
          "title": ""
        },
        "id": "jZayG-yVa4yO",
        "outputId": "08a59b2a-a544-48d7-dbca-ce694e400b39"
      },
      "outputs": [
        {
          "output_type": "stream",
          "name": "stdout",
          "text": [
            "+---------+--------------------------------------+-----------+-----+--------------------------------+----------------------------------------+---------------------------------------------+-----------------------------------------+----------------------------------------------------+---------------------------------------------------------------------------------+\n|Price    |review/summary                        |review/time|score|numVec                          |normVec                                 |words1                                       |filtered_tokens1                         |cv1                                                 |features1                                                                        |\n+---------+--------------------------------------+-----------+-----+--------------------------------+----------------------------------------+---------------------------------------------+-----------------------------------------+----------------------------------------------------+---------------------------------------------------------------------------------+\n|19.570179|nice collection of julie strain images|9.406368E8 |4    |[19.570178985595703,9.406368E8] |[0.08098151160973638,0.2415293751942804]|[nice, collection, of, julie, strain, images]|[nice, collection, julie, strain, images]|(6945,[77,113,1204,4796,5946],[1.0,1.0,1.0,1.0,1.0])|(6945,[77,113,1204,4796,5946],[5.5411629870609005,5.708217071724067,0.0,0.0,0.0])|\n|19.570179|really enjoyed it                     |1.0957248E9|5    |[19.570178985595703,1.0957248E9]|[0.08098151160973638,0.5205160087037612]|[really, enjoyed, it]                        |[really, enjoyed]                        |(6945,[38,429],[1.0,1.0])                           |(6945,[38,429],[5.015069891164122,6.6397752757290105])                           |\n+---------+--------------------------------------+-----------+-----+--------------------------------+----------------------------------------+---------------------------------------------+-----------------------------------------+----------------------------------------------------+---------------------------------------------------------------------------------+\nonly showing top 2 rows\n\n"
          ]
        }
      ],
      "source": [
        "%pyspark\n",
        "\n",
        "tokenizer1 = Tokenizer(inputCol=\"review/summary\", outputCol=\"words1\")\n",
        "words1 = tokenizer1.transform(normVec)\n",
        "\n",
        "stopwords_remover1 = StopWordsRemover(inputCol='words1',outputCol='filtered_tokens1')\n",
        "filtered_tokens1 = stopwords_remover1.transform(words1)\n",
        "\n",
        "\n",
        "cv1 = CountVectorizer(vocabSize=2**12, inputCol=\"filtered_tokens1\", outputCol='cv1')\n",
        "model_cv = cv1.fit(filtered_tokens1)\n",
        "cv1_result = model_cv.transform(filtered_tokens1)\n",
        "\n",
        "idf1 = IDF(inputCol='cv1', outputCol=\"features1\", minDocFreq=5)\n",
        "model_idf = idf1.fit(cv1_result)\n",
        "idf1_result = model_idf.transform(cv1_result)\n",
        "\n",
        "#idf1_result.show(2,False)"
      ]
    },
    {
      "cell_type": "code",
      "execution_count": null,
      "metadata": {
        "application/vnd.databricks.v1+cell": {
          "cellMetadata": {
            "byteLimit": 2048000,
            "rowLimit": 10000
          },
          "inputWidgets": {},
          "nuid": "32599ec8-ce85-463f-a018-64e722f416c3",
          "showTitle": false,
          "title": ""
        },
        "id": "bu31rVOra4yO",
        "outputId": "65ecf9ad-050e-4ee5-93bc-acd36228ec52"
      },
      "outputs": [
        {
          "output_type": "stream",
          "name": "stdout",
          "text": [
            "+---------+--------------------------------------+-----------+-----+--------------------------------+----------------------------------------+---------------------------------------------+-----------------------------------------+----------------------------------------------------+---------------------------------------------------------------------------------+-----+-------------------------------------------------------------------------------------------------+\n|Price    |review/summary                        |review/time|score|numVec                          |normVec                                 |words1                                       |filtered_tokens1                         |cv1                                                 |features1                                                                        |label|features                                                                                         |\n+---------+--------------------------------------+-----------+-----+--------------------------------+----------------------------------------+---------------------------------------------+-----------------------------------------+----------------------------------------------------+---------------------------------------------------------------------------------+-----+-------------------------------------------------------------------------------------------------+\n|19.570179|nice collection of julie strain images|9.406368E8 |4    |[19.570178985595703,9.406368E8] |[0.08098151160973638,0.2415293751942804]|[nice, collection, of, julie, strain, images]|[nice, collection, julie, strain, images]|(6945,[77,113,1204,4796,5946],[1.0,1.0,1.0,1.0,1.0])|(6945,[77,113,1204,4796,5946],[5.5411629870609005,5.708217071724067,0.0,0.0,0.0])|3.0  |(6947,[0,1,79,115],[0.08098151160973638,0.2415293751942804,5.5411629870609005,5.708217071724067])|\n|19.570179|really enjoyed it                     |1.0957248E9|5    |[19.570178985595703,1.0957248E9]|[0.08098151160973638,0.5205160087037612]|[really, enjoyed, it]                        |[really, enjoyed]                        |(6945,[38,429],[1.0,1.0])                           |(6945,[38,429],[5.015069891164122,6.6397752757290105])                           |4.0  |(6947,[0,1,40,431],[0.08098151160973638,0.5205160087037612,5.015069891164122,6.6397752757290105])|\n+---------+--------------------------------------+-----------+-----+--------------------------------+----------------------------------------+---------------------------------------------+-----------------------------------------+----------------------------------------------------+---------------------------------------------------------------------------------+-----+-------------------------------------------------------------------------------------------------+\nonly showing top 2 rows\n\n"
          ]
        }
      ],
      "source": [
        "%pyspark\n",
        "\n",
        "label_stringIdx = StringIndexer(inputCol=\"score\", outputCol=\"label\", stringOrderType= \"alphabetAsc\")\n",
        "feature_data = label_stringIdx.fit(idf1_result).transform(idf1_result)\n",
        "\n",
        "#feature_data = feature_data.withColumnRenamed(\"features1\",\"features\")\n",
        "featVect = VectorAssembler(inputCols=[\"normVec\", \"features1\"], outputCol=\"features\")\n",
        "output_df = featVect.transform(feature_data)\n",
        "\n",
        "#output_df.show(2,False)"
      ]
    },
    {
      "cell_type": "code",
      "execution_count": null,
      "metadata": {
        "application/vnd.databricks.v1+cell": {
          "cellMetadata": {
            "byteLimit": 2048000,
            "rowLimit": 10000
          },
          "inputWidgets": {},
          "nuid": "34de463c-717b-4738-bf55-40c8b02aede0",
          "showTitle": false,
          "title": ""
        },
        "id": "nwvNuWDSa4yO",
        "outputId": "fc0c9c0d-8d2f-42bb-bb4a-fa192b813d3f"
      },
      "outputs": [
        {
          "output_type": "stream",
          "name": "stdout",
          "text": [
            "+----------------------------------------------------------------------------------------------------------------------------------------------------------------+\n|features                                                                                                                                                        |\n+----------------------------------------------------------------------------------------------------------------------------------------------------------------+\n|(6947,[0,1,79,115],[0.08098151160973638,0.2415293751942804,5.5411629870609005,5.708217071724067])                                                               |\n|(6947,[0,1,40,431],[0.08098151160973638,0.5205160087037612,5.015069891164122,6.6397752757290105])                                                               |\n|(6947,[0,1,63,93,235,397,703],[0.08098151160973638,0.490052844264843,5.312904335079921,5.621205694734437,6.208992359636556,6.565667303575289,7.007500055854328])|\n|(6947,[0,1,405,793,1086],[0.08098151160973638,0.5115013988187752,6.565667303575289,7.1252830915107115,7.412965163962492])                                       |\n|(6947,[0,1,5,531,837],[0.08098151160973638,0.5425862604911408,2.950895821615074,6.806829360392176,7.258814484135234])                                           |\n|(6947,[0,1,7,74,579],[0.08098151160973638,0.5770904569474665,3.448982419603635,5.443524517496985,6.902139540196502])                                            |\n|(6947,[0,1,8,111,163],[0.08098151160973638,0.5284426484302145,3.5245520241734796,5.708217071724067,5.946628095169065])                                          |\n|(6947,[0,1,6],[0.08098151160973638,0.7642213242151072,3.1386165430867994])                                                                                      |\n|(6947,[0,1,4,130],[0.08098151160973638,0.7258315200497357,2.7590048138049688,5.803527251528392])                                                                |\n|(6947,[0,1,41,105,269,353],[0.08098151160973638,0.4857009636307118,4.985216928014441,5.649376571701134,6.2602856540241065,6.496674432088337])                   |\n|(6947,[0,1,87,92,218,754],[0.08016022225577615,0.33291886851103514,5.593806720546323,5.621205694734437,6.160202195467124,7.1252830915107115])                   |\n|(6947,[0,1,14,218],[0.08016022225577615,0.8731737643767485,4.227990890769973,6.160202195467124])                                                                |\n|(6947,[0,1],[0.08016022225577615,0.7949953372707491])                                                                                                           |\n|(6947,[0,1,2,218,754],[0.08016022225577615,0.7486788933789245,1.931632037191025,6.160202195467124,7.1252830915107115])                                          |\n|(6947,[0,1,5],[0.03938033804309574,0.5589058128691328,2.950895821615074])                                                                                       |\n|(6947,[0,1,517],[0.03938033804309574,0.5634131178116257,6.806829360392176])                                                                                     |\n|(6947,[0,1,341],[0.03938033804309574,0.5627914205781784,6.432135910950766])                                                                                     |\n|(6947,[0,1,493],[0.03938033804309574,0.556885296860429,6.719817983402547])                                                                                      |\n|(6947,[0,1],[0.03938033804309574,0.5589058128691328])                                                                                                           |\n|(6947,[0,1,14],[0.03938033804309574,0.5822194591234069,4.227990890769973])                                                                                      |\n|(6947,[0,1,36],[0.03938033804309574,0.5607709045694746,4.985216928014441])                                                                                      |\n|(6947,[0,1,10],[0.03938033804309574,0.5613926018029219,3.8623903812257363])                                                                                     |\n|(6947,[0,1,73],[0.03938033804309574,0.5596829344109419,5.398062143420227])                                                                                      |\n|(6947,[0,1,91,174,673],[0.03938033804309574,0.5626359962698165,5.649376571701134,5.985848808322347,7.007500055854328])                                          |\n|(6947,[0,1,2,211,673],[0.03938033804309574,0.5567298725520671,1.931632037191025,6.113682179832232,7.007500055854328])                                           |\n|(6947,[0,1],[0.03938033804309574,0.5725831520049736])                                                                                                           |\n|(6947,[0,1,3,10,805],[0.03938033804309574,0.6212309605222257,2.6479462770325046,3.8623903812257363,7.1252830915107115])                                         |\n|(6947,[0,1,120],[0.03938033804309574,0.564034815045073,5.738988730390821])                                                                                      |\n|(6947,[0,1,206],[0.03938033804309574,0.5632576935032639,6.113682179832232])                                                                                     |\n|(6947,[0,1,11,970],[0.03938033804309574,0.5567298725520671,4.080760653787288,7.412965163962492])                                                                |\n|(6947,[0,1,11,634],[0.03938033804309574,0.5567298725520671,4.080760653787288,7.007500055854328])                                                                |\n|(6947,[0,1,2,4,6,13],[0.03938033804309574,0.5553310537768107,1.931632037191025,2.7590048138049688,3.1386165430867994,4.135820430970315])                        |\n|(6947,[0,1,2,3],[0.03938033804309574,0.5551756294684489,1.931632037191025,2.6479462770325046])                                                                  |\n|(6947,[0,1,2,4,6,55,99],[0.03938033804309574,0.5480261112838047,1.931632037191025,2.7590048138049688,3.1386165430867994,5.234432719638425,5.621205694734437])   |\n|(6947,[0,1,2,14],[0.03938033804309574,0.5585949642524091,1.931632037191025,8.455981781539945])                                                                  |\n|(6947,[0,1,3,4],[0.03938033804309574,0.5573515697855145,2.6479462770325046,2.7590048138049688])                                                                 |\n|(6947,[0,1,2,139,162],[0.03938033804309574,0.5432079577245881,1.931632037191025,5.837428803204073,5.946628095169065])                                           |\n|(6947,[0,1,226,239],[0.03938033804309574,0.5567298725520671,6.2602856540241065,6.208992359636556])                                                              |\n|(6947,[0,1,261,700],[0.03938033804309574,0.5634131178116257,6.2602856540241065,7.1252830915107115])                                                             |\n|(6947,[0,1,90,242,594,662],[0.03938033804309574,0.5638793907367112,5.593806720546323,6.208992359636556,6.902139540196502,7.007500055854328])                    |\n|(6947,[0,1,242,662,813],[0.03938033804309574,0.5610817531861984,6.208992359636556,7.007500055854328,7.1252830915107115])                                        |\n|(6947,[0,1,34,173,408,766],[0.03938033804309574,0.5736711221635064,4.835276780723525,5.985848808322347,6.565667303575289,7.1252830915107115])                   |\n|(6947,[0,1],[0.03938033804309574,0.568542119987566])                                                                                                            |\n|(6947,[0,1],[0.03938033804309574,0.5557973267018962])                                                                                                           |\n|(6947,[0,1,2,4],[0.03938033804309574,0.5553310537768107,1.931632037191025,2.7590048138049688])                                                                  |\n|(6947,[0,1,261,700],[0.03938033804309574,0.5629468448865402,6.2602856540241065,7.1252830915107115])                                                             |\n|(6947,[0,1],[0.1793349780138282,0.7118433322971712])                                                                                                            |\n|(6947,[0,1],[0.11186718472677028,0.2681069319241529])                                                                                                           |\n|(6947,[0,1,487,563,754],[0.11186718472677028,0.9086105066832453,6.719817983402547,6.902139540196502,7.1252830915107115])                                        |\n|(6947,[0,1,8,1113],[0.11186718472677028,0.86990985390115,3.5245520241734796,7.412965163962492])                                                                 |\n+----------------------------------------------------------------------------------------------------------------------------------------------------------------+\nonly showing top 50 rows\n\n"
          ]
        }
      ],
      "source": [
        "%pyspark\n",
        "\n",
        "#output_df.select(\"features\").show(2,False)"
      ]
    },
    {
      "cell_type": "code",
      "execution_count": null,
      "metadata": {
        "application/vnd.databricks.v1+cell": {
          "cellMetadata": {
            "byteLimit": 2048000,
            "rowLimit": 10000
          },
          "inputWidgets": {},
          "nuid": "0a75102f-5b74-4f96-af08-7739ed555de3",
          "showTitle": false,
          "title": ""
        },
        "id": "xl5P78a9a4yO"
      },
      "outputs": [],
      "source": [
        "%pyspark\n",
        "\n",
        "output_df = output_df.select('features','label')\n",
        "train, test = output_df.randomSplit([0.7,0.3])\n",
        "\n",
        "print(\"train_test_split\")"
      ]
    },
    {
      "cell_type": "code",
      "execution_count": null,
      "metadata": {
        "application/vnd.databricks.v1+cell": {
          "cellMetadata": {
            "byteLimit": 2048000,
            "rowLimit": 10000
          },
          "inputWidgets": {},
          "nuid": "86e15b25-7a63-456a-8336-86c964a1c248",
          "showTitle": false,
          "title": ""
        },
        "id": "cAWaEEk8a4yO"
      },
      "outputs": [],
      "source": [
        "%pyspark\n",
        "\n",
        "features = output_df.select(['features']).collect()\n",
        "features_count = len(features[0][0])\n",
        "class_count = output_df.select(countDistinct(\"label\")).collect()\n",
        "classes = class_count[0][0]\n",
        "\n",
        "#layers = [features_count, features_count+1, features_count, classes]\n",
        "#layers = [features_count, 21, 20, classes]\n",
        "#layers = [features_count, 51, 50, classes]\n",
        "layers = [features_count, 20, classes]\n",
        "print(\"layer_setting_complete\")\n",
        "\n",
        "#mlp = MultilayerPerceptronClassifier(maxIter = 100, layers = layers, blockSize = 128, seed = 1234)\n",
        "mlp = MultilayerPerceptronClassifier(layers = layers)\n",
        "\n",
        "print(\"mlp_setting_complete\")"
      ]
    },
    {
      "cell_type": "code",
      "execution_count": null,
      "metadata": {
        "application/vnd.databricks.v1+cell": {
          "cellMetadata": {
            "byteLimit": 2048000,
            "rowLimit": 10000
          },
          "inputWidgets": {},
          "nuid": "f5e1959a-927f-4cea-8ca7-bf0b1fd4ece6",
          "showTitle": false,
          "title": ""
        },
        "id": "C1f_9sOpa4yO",
        "outputId": "cd4a816f-7cdf-4f03-ef82-503b1bf81a96"
      },
      "outputs": [
        {
          "output_type": "stream",
          "name": "stdout",
          "text": [
            "features_count: 6947\n"
          ]
        }
      ],
      "source": [
        "%pyspark\n",
        "\n",
        "print(\"features_count:\", features_count)"
      ]
    },
    {
      "cell_type": "code",
      "execution_count": null,
      "metadata": {
        "application/vnd.databricks.v1+cell": {
          "cellMetadata": {
            "byteLimit": 2048000,
            "rowLimit": 10000
          },
          "inputWidgets": {},
          "nuid": "3fae84c9-4c26-478f-b6b7-f19727b4f773",
          "showTitle": false,
          "title": ""
        },
        "id": "xzJI5fDpa4yO"
      },
      "outputs": [],
      "source": [
        "%pyspark\n",
        "\n",
        "#paramGrid_mlp = (ParamGridBuilder()\n",
        "#             .addGrid(mlp.blockSize, [64, 128])\n",
        "#             .addGrid(mlp.maxIter, [50, 100])\n",
        "#             .build())\n",
        "\n",
        "paramGrid_mlp = (ParamGridBuilder()\n",
        "             .addGrid(mlp.blockSize, [128])\n",
        "             .addGrid(mlp.maxIter, [100])\n",
        "             .build())"
      ]
    },
    {
      "cell_type": "code",
      "execution_count": null,
      "metadata": {
        "application/vnd.databricks.v1+cell": {
          "cellMetadata": {
            "byteLimit": 2048000,
            "rowLimit": 10000
          },
          "inputWidgets": {},
          "nuid": "d8708a06-7e53-42d7-a59c-3bfc8525e884",
          "showTitle": false,
          "title": ""
        },
        "id": "t6MHkfnCa4yP",
        "outputId": "dbfca9ab-1732-488f-bbed-818fbee2eb20"
      },
      "outputs": [
        {
          "output_type": "stream",
          "name": "stdout",
          "text": [
            "Multilayer perceptron classifier takes 722.4632556438446 seconds\n"
          ]
        }
      ],
      "source": [
        "%pyspark\n",
        "\n",
        "print(\"start_CV\")\n",
        "start3 = time()\n",
        "\n",
        "cv_mlp = CrossValidator(estimator=mlp, evaluator=MulticlassClassificationEvaluator(), estimatorParamMaps=paramGrid_mlp)\n",
        "model_mlp = cv_mlp.fit(train)\n",
        "\n",
        "#tv_mlp = TrainValidationSplit(estimator=mlp, evaluator=MulticlassClassificationEvaluator(), estimatorParamMaps=paramGrid_mlp, trainRatio=0.7)\n",
        "#model_mlp = tv_mlp.fit(train)\n",
        "\n",
        "#model_mlp = mlp.fit(train)\n",
        "\n",
        "end3 = time()\n",
        "phrase = 'Multilayer perceptron classifier'\n",
        "print('{} takes {} seconds'.format(phrase, (end3 - start3))) #round(end - start, 2)))"
      ]
    },
    {
      "cell_type": "code",
      "execution_count": null,
      "metadata": {
        "application/vnd.databricks.v1+cell": {
          "cellMetadata": {
            "byteLimit": 2048000,
            "rowLimit": 10000
          },
          "inputWidgets": {},
          "nuid": "35cac785-6113-4740-93f1-7931877e7ded",
          "showTitle": false,
          "title": ""
        },
        "id": "b3pNM_H1a4yP",
        "outputId": "17c58b89-87f6-4b73-a416-b0c4789c6afd"
      },
      "outputs": [
        {
          "output_type": "stream",
          "name": "stdout",
          "text": [
            "LogisticRegression\nAccuracy: 0.5442448436460412\nPrecision: 0.5079834114464995\nRecall: 0.5442448436460412\nF1: 0.5217976663355133\n"
          ]
        }
      ],
      "source": [
        "%pyspark\n",
        "\n",
        "predictions_mlp = model_mlp.transform(test)\n",
        "\n",
        "evaluator = MulticlassClassificationEvaluator(labelCol = 'label', predictionCol=\"prediction\")\n",
        "\n",
        "precision = evaluator.evaluate(predictions_mlp, {evaluator.metricName: \"weightedPrecision\"})\n",
        "recall = evaluator.evaluate(predictions_mlp, {evaluator.metricName: \"weightedRecall\"})\n",
        "accuracy = evaluator.evaluate(predictions_mlp, {evaluator.metricName: \"accuracy\"})\n",
        "F1 = evaluator.evaluate(predictions_mlp, {evaluator.metricName: \"f1\"})\n",
        "\n",
        "# Print the evaluation metrics\n",
        "print(\"Multilayer perceptron\")\n",
        "print(\"Accuracy:\", accuracy)\n",
        "print(\"Precision:\", precision)\n",
        "print(\"Recall:\", recall)\n",
        "print(\"F1:\", F1)"
      ]
    },
    {
      "cell_type": "code",
      "execution_count": null,
      "metadata": {
        "application/vnd.databricks.v1+cell": {
          "cellMetadata": {
            "byteLimit": 2048000,
            "rowLimit": 10000
          },
          "inputWidgets": {},
          "nuid": "7a5516a2-fee4-4656-9978-d866ae7ea074",
          "showTitle": false,
          "title": ""
        },
        "id": "sGY15peca4yP",
        "outputId": "11d682a0-8946-4dc8-c8f7-3a20809c36c6"
      },
      "outputs": [
        {
          "output_type": "stream",
          "name": "stdout",
          "text": [
            "+--------------------+-----+--------------------+--------------------+----------+\n|            features|label|       rawPrediction|         probability|prediction|\n+--------------------+-----+--------------------+--------------------+----------+\n|(6947,[0,1],[0.01...|  4.0|[-0.0370655029532...|[0.14397816085843...|       4.0|\n|(6947,[0,1],[0.02...|  2.0|[-0.0376089105461...|[0.14318424165549...|       4.0|\n|(6947,[0,1],[0.03...|  4.0|[-0.0342110245494...|[0.13778691447038...|       4.0|\n|(6947,[0,1],[0.03...|  3.0|[-0.0597215066347...|[0.11363872314568...|       4.0|\n|(6947,[0,1],[0.03...|  4.0|[-0.0362711391178...|[0.14069885849411...|       4.0|\n|(6947,[0,1],[0.04...|  4.0|[-0.1236578178016...|[0.08746596986687...|       4.0|\n|(6947,[0,1],[0.06...|  3.0|[-0.0631485570580...|[0.11337313644069...|       4.0|\n|(6947,[0,1],[0.07...|  4.0|[-0.0440803833424...|[0.14248497417651...|       4.0|\n|(6947,[0,1],[0.08...|  2.0|[-0.2086787800975...|[0.06451973754811...|       4.0|\n|(6947,[0,1],[0.08...|  4.0|[-0.1771808525904...|[0.07234502770359...|       4.0|\n|(6947,[0,1],[0.08...|  4.0|[-0.1743488986871...|[0.07309969669965...|       4.0|\n|(6947,[0,1],[0.08...|  4.0|[-0.1707405673228...|[0.07407456566544...|       4.0|\n|(6947,[0,1],[0.08...|  4.0|[-0.1678959587269...|[0.07485385501742...|       4.0|\n|(6947,[0,1],[0.08...|  4.0|[-0.1676859986842...|[0.07491175641486...|       4.0|\n|(6947,[0,1],[0.08...|  2.0|[-0.1616437504724...|[0.07660110031247...|       4.0|\n|(6947,[0,1],[0.08...|  4.0|[-0.1466645018382...|[0.08099296896618...|       4.0|\n|(6947,[0,1],[0.08...|  3.0|[-0.1389511568023...|[0.08337790272740...|       4.0|\n|(6947,[0,1],[0.08...|  4.0|[-0.1377979029978...|[0.08374226088872...|       4.0|\n|(6947,[0,1],[0.08...|  4.0|[-0.1348892551824...|[0.08467057560274...|       4.0|\n|(6947,[0,1],[0.08...|  0.0|[-0.1317325070353...|[0.08569364374089...|       4.0|\n+--------------------+-----+--------------------+--------------------+----------+\nonly showing top 20 rows\n\n"
          ]
        }
      ],
      "source": [
        "%pyspark\n",
        "\n",
        "predictions_mlp.show()"
      ]
    },
    {
      "cell_type": "code",
      "execution_count": null,
      "metadata": {
        "application/vnd.databricks.v1+cell": {
          "cellMetadata": {
            "byteLimit": 2048000,
            "rowLimit": 10000
          },
          "inputWidgets": {},
          "nuid": "7bb762ee-d193-47b7-ae0c-d64b9ac19046",
          "showTitle": false,
          "title": ""
        },
        "id": "U4SbaS4va4yP",
        "outputId": "9364884a-187c-4d56-93ad-32274d76f63f"
      },
      "outputs": [
        {
          "output_type": "stream",
          "name": "stderr",
          "text": [
            "/databricks/spark/python/pyspark/sql/context.py:165: FutureWarning: Deprecated in 3.0.0. Use SparkSession.builder.getOrCreate() instead.\n  warnings.warn(\n"
          ]
        },
        {
          "output_type": "stream",
          "name": "stdout",
          "text": [
            "Confusion matrix_MLP:\n[[  52.   23.   17.   29.  103.]\n [  21.   35.   21.   20.   80.]\n [  19.   13.   32.   60.  134.]\n [  13.   19.   40.  172.  361.]\n [  46.   38.   58.  255. 1345.]]\n"
          ]
        }
      ],
      "source": [
        "%pyspark\n",
        "\n",
        "predictionAndLabels_mlp = predictions_mlp.select(\"prediction\", \"label\").rdd\n",
        "metrics_mlp = MulticlassMetrics(predictionAndLabels_mlp)\n",
        "confusion_matrix_mlp = metrics_mlp.confusionMatrix().toArray()\n",
        "print(\"Confusion matrix_MLP:\")\n",
        "print(confusion_matrix_mlp)"
      ]
    },
    {
      "cell_type": "code",
      "execution_count": null,
      "metadata": {
        "application/vnd.databricks.v1+cell": {
          "cellMetadata": {},
          "inputWidgets": {},
          "nuid": "6b15373d-cfe5-4793-903c-017089d22d1b",
          "showTitle": false,
          "title": ""
        },
        "id": "I00Lo9Kpa4yX"
      },
      "outputs": [],
      "source": []
    }
  ],
  "metadata": {
    "application/vnd.databricks.v1+notebook": {
      "dashboards": [],
      "language": "python",
      "notebookMetadata": {
        "pythonIndentUnit": 4
      },
      "notebookName": "mlp_test (try)",
      "widgets": {}
    },
    "colab": {
      "provenance": [],
      "include_colab_link": true
    },
    "kernelspec": {
      "language": "scala",
      "name": "spark2-scala"
    },
    "language_info": {
      "codemirror_mode": "text/x-scala",
      "file_extension": ".scala",
      "mimetype": "text/x-scala",
      "name": "scala",
      "pygments_lexer": "scala"
    },
    "name": "projecttest"
  },
  "nbformat": 4,
  "nbformat_minor": 0
}